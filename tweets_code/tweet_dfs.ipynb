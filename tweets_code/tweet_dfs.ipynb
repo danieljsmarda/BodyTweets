{
 "cells": [
  {
   "cell_type": "code",
   "execution_count": 1,
   "metadata": {},
   "outputs": [],
   "source": [
    "import pandas as pd"
   ]
  },
  {
   "cell_type": "code",
   "execution_count": 8,
   "metadata": {},
   "outputs": [
    {
     "data": {
      "text/html": [
       "<div>\n",
       "<style scoped>\n",
       "    .dataframe tbody tr th:only-of-type {\n",
       "        vertical-align: middle;\n",
       "    }\n",
       "\n",
       "    .dataframe tbody tr th {\n",
       "        vertical-align: top;\n",
       "    }\n",
       "\n",
       "    .dataframe thead th {\n",
       "        text-align: right;\n",
       "    }\n",
       "</style>\n",
       "<table border=\"1\" class=\"dataframe\">\n",
       "  <thead>\n",
       "    <tr style=\"text-align: right;\">\n",
       "      <th></th>\n",
       "      <th>author_id</th>\n",
       "      <th>location</th>\n",
       "    </tr>\n",
       "  </thead>\n",
       "  <tbody>\n",
       "    <tr>\n",
       "      <th>0</th>\n",
       "      <td>2743106511</td>\n",
       "      <td>North Carolina, USA</td>\n",
       "    </tr>\n",
       "    <tr>\n",
       "      <th>1</th>\n",
       "      <td>1018650672353312769</td>\n",
       "      <td>Los Angeles, CA</td>\n",
       "    </tr>\n",
       "    <tr>\n",
       "      <th>2</th>\n",
       "      <td>292404883</td>\n",
       "      <td>Olmsted Falls, OH</td>\n",
       "    </tr>\n",
       "    <tr>\n",
       "      <th>3</th>\n",
       "      <td>1209320835535822848</td>\n",
       "      <td>earth usa🐈🐾🌊</td>\n",
       "    </tr>\n",
       "    <tr>\n",
       "      <th>4</th>\n",
       "      <td>1026847067849871360</td>\n",
       "      <td>Wisconsin, USA</td>\n",
       "    </tr>\n",
       "  </tbody>\n",
       "</table>\n",
       "</div>"
      ],
      "text/plain": [
       "             author_id             location\n",
       "0           2743106511  North Carolina, USA\n",
       "1  1018650672353312769      Los Angeles, CA\n",
       "2            292404883    Olmsted Falls, OH\n",
       "3  1209320835535822848         earth usa🐈🐾🌊\n",
       "4  1026847067849871360       Wisconsin, USA"
      ]
     },
     "execution_count": 8,
     "metadata": {},
     "output_type": "execute_result"
    }
   ],
   "source": [
    "count = 0\n",
    "def handle_surrogates(text):\n",
    "    return text.encode('utf-16', 'surrogatepass').decode('utf-16')\n",
    "with open('../private_data/downloaded_tweets.txt', 'r', encoding='utf-16') as f:\n",
    "    response = eval(eval(f.readline()))\n",
    "    tweets_df = pd.DataFrame(columns=['author_id', 'tweet_id', 'tweet_text'])\n",
    "    users_df = pd.DataFrame(columns=['author_id', 'location'])\n",
    "    for tweet in response['data']:\n",
    "        # Handle surrogate pairs\n",
    "        tweets_df = tweets_df.append({\n",
    "            'author_id': tweet['author_id'],\n",
    "            'tweet_id': tweet['id'],\n",
    "            'tweet_text': handle_surrogates(tweet['text'])\n",
    "        }, ignore_index=True)\n",
    "    for user in response['includes']['users']:\n",
    "        try:\n",
    "            users_df = users_df.append({\n",
    "                'author_id': user['id'],\n",
    "                'location': handle_surrogates(user['location'])\n",
    "            }, ignore_index=True)\n",
    "        except KeyError: # user doesn't have location string\n",
    "            continue\n",
    "users_df.head()"
   ]
  },
  {
   "cell_type": "code",
   "execution_count": null,
   "metadata": {},
   "outputs": [],
   "source": [
    "with open('../private_data/downloaded_tweets.txt', 'r', encoding='utf-16') as f:\n",
    "    tweet_list = [eval(eval(s)) for s in f.readlines()]\n",
    "for d in tweet_list:\n",
    "    for tweet in d['data']:\n",
    "        try:\n",
    "            print(tweet['text'])\n",
    "        except UnicodeEncodeError:\n",
    "            print(tweet['text'].encode('utf-16', 'surrogatepass').decode('utf-16'))"
   ]
  },
  {
   "cell_type": "code",
   "execution_count": null,
   "metadata": {},
   "outputs": [],
   "source": []
  }
 ],
 "metadata": {
  "kernelspec": {
   "display_name": "Python 3",
   "language": "python",
   "name": "python3"
  },
  "language_info": {
   "codemirror_mode": {
    "name": "ipython",
    "version": 3
   },
   "file_extension": ".py",
   "mimetype": "text/x-python",
   "name": "python",
   "nbconvert_exporter": "python",
   "pygments_lexer": "ipython3",
   "version": "3.7.7"
  }
 },
 "nbformat": 4,
 "nbformat_minor": 4
}
