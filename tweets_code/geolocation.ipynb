{
 "cells": [
  {
   "cell_type": "markdown",
   "metadata": {},
   "source": [
    "# Generating Lookup Tables for Geolocation\n",
    "This notebook details the steps to generate the lookup tables for geolocation."
   ]
  },
  {
   "cell_type": "code",
   "execution_count": 1078,
   "metadata": {},
   "outputs": [],
   "source": [
    "import pandas as pd\n",
    "import numpy as np\n",
    "pd.set_option('display.max_rows', 300)"
   ]
  },
  {
   "cell_type": "markdown",
   "metadata": {},
   "source": [
    "# International Cities and Counties\n",
    "World cities with pops >100K, Canadian cities, Canadian counties, UK cities"
   ]
  },
  {
   "cell_type": "code",
   "execution_count": 1079,
   "metadata": {},
   "outputs": [],
   "source": [
    "# Only need first column of data\n",
    "usecols=['Unnamed: 0', 'Both sexes\\nLes deux sexes', 'Both sexes\\nLes deux sexes.1']\n",
    "un_cities = pd.read_csv('../public_data/uncities.csv', usecols=usecols, skiprows=4)\\\n",
    "    .set_axis(['name', 'city_pop', 'urban_pop'], axis=1)\n",
    "# Drop US Cities\n",
    "first_us_idx = un_cities.index[un_cities['name']=='Abilene (TX)'][0]\n",
    "last_us_idx = un_cities.index[un_cities['name']=='CHARLOTTE AMALIE'][0]\n",
    "un_cities = un_cities.drop(index=range(first_us_idx, last_us_idx+1))\n",
    "un_cities = un_cities.dropna(subset=['city_pop', 'urban_pop'])  # Drop if neither city or urban pop exists\n",
    "un_cities['pop'] = np.where(un_cities['urban_pop'].str.startswith('.'), un_cities['city_pop'], un_cities['urban_pop'])\n",
    "un_cities = un_cities[['name', 'pop']]"
   ]
  },
  {
   "cell_type": "code",
   "execution_count": 1080,
   "metadata": {},
   "outputs": [
    {
     "data": {
      "text/html": [
       "<div>\n",
       "<style scoped>\n",
       "    .dataframe tbody tr th:only-of-type {\n",
       "        vertical-align: middle;\n",
       "    }\n",
       "\n",
       "    .dataframe tbody tr th {\n",
       "        vertical-align: top;\n",
       "    }\n",
       "\n",
       "    .dataframe thead th {\n",
       "        text-align: right;\n",
       "    }\n",
       "</style>\n",
       "<table border=\"1\" class=\"dataframe\">\n",
       "  <thead>\n",
       "    <tr style=\"text-align: right;\">\n",
       "      <th></th>\n",
       "      <th>name</th>\n",
       "      <th>pop</th>\n",
       "    </tr>\n",
       "  </thead>\n",
       "  <tbody>\n",
       "    <tr>\n",
       "      <th>0</th>\n",
       "      <td>England</td>\n",
       "      <td>53012456</td>\n",
       "    </tr>\n",
       "    <tr>\n",
       "      <th>1</th>\n",
       "      <td>Northern Ireland</td>\n",
       "      <td>1810863</td>\n",
       "    </tr>\n",
       "    <tr>\n",
       "      <th>2</th>\n",
       "      <td>Scotland</td>\n",
       "      <td>5295403</td>\n",
       "    </tr>\n",
       "    <tr>\n",
       "      <th>3</th>\n",
       "      <td>Wales</td>\n",
       "      <td>3063456</td>\n",
       "    </tr>\n",
       "    <tr>\n",
       "      <th>4</th>\n",
       "      <td>North East</td>\n",
       "      <td>2596886</td>\n",
       "    </tr>\n",
       "    <tr>\n",
       "      <th>...</th>\n",
       "      <td>...</td>\n",
       "      <td>...</td>\n",
       "    </tr>\n",
       "    <tr>\n",
       "      <th>9928</th>\n",
       "      <td>Garth, Menai (Bangor)</td>\n",
       "      <td>5125</td>\n",
       "    </tr>\n",
       "    <tr>\n",
       "      <th>9929</th>\n",
       "      <td>Haverfordwest: Prendergast, Rudbaxton</td>\n",
       "      <td>2952</td>\n",
       "    </tr>\n",
       "    <tr>\n",
       "      <th>9930</th>\n",
       "      <td>Brackla, Coity</td>\n",
       "      <td>13820</td>\n",
       "    </tr>\n",
       "    <tr>\n",
       "      <th>9931</th>\n",
       "      <td>Crickhowell, Llangattock</td>\n",
       "      <td>3800</td>\n",
       "    </tr>\n",
       "    <tr>\n",
       "      <th>9932</th>\n",
       "      <td>Glantwymyn, Llanbrynmair</td>\n",
       "      <td>2960</td>\n",
       "    </tr>\n",
       "  </tbody>\n",
       "</table>\n",
       "<p>9933 rows × 2 columns</p>\n",
       "</div>"
      ],
      "text/plain": [
       "                                       name       pop\n",
       "0                                   England  53012456\n",
       "1                          Northern Ireland   1810863\n",
       "2                                  Scotland   5295403\n",
       "3                                     Wales   3063456\n",
       "4                                North East   2596886\n",
       "...                                     ...       ...\n",
       "9928                  Garth, Menai (Bangor)      5125\n",
       "9929  Haverfordwest: Prendergast, Rudbaxton      2952\n",
       "9930                         Brackla, Coity     13820\n",
       "9931               Crickhowell, Llangattock      3800\n",
       "9932               Glantwymyn, Llanbrynmair      2960\n",
       "\n",
       "[9933 rows x 2 columns]"
      ]
     },
     "execution_count": 1080,
     "metadata": {},
     "output_type": "execute_result"
    }
   ],
   "source": [
    "usecols = ['Unnamed: 2', 'Population (usual residents) : All usual residents - Unit : Persons']\n",
    "uk_areas = pd.read_csv('../public_data/ukcensusareas.csv', skiprows=1, usecols=usecols)\\\n",
    "    .set_axis(['name', 'pop'], axis=1)\n",
    "uk_areas[uk_areas.notna()]"
   ]
  },
  {
   "cell_type": "code",
   "execution_count": 1081,
   "metadata": {},
   "outputs": [
    {
     "data": {
      "text/html": [
       "<div>\n",
       "<style scoped>\n",
       "    .dataframe tbody tr th:only-of-type {\n",
       "        vertical-align: middle;\n",
       "    }\n",
       "\n",
       "    .dataframe tbody tr th {\n",
       "        vertical-align: top;\n",
       "    }\n",
       "\n",
       "    .dataframe thead th {\n",
       "        text-align: right;\n",
       "    }\n",
       "</style>\n",
       "<table border=\"1\" class=\"dataframe\">\n",
       "  <thead>\n",
       "    <tr style=\"text-align: right;\">\n",
       "      <th></th>\n",
       "      <th>name</th>\n",
       "      <th>pop</th>\n",
       "    </tr>\n",
       "  </thead>\n",
       "  <tbody>\n",
       "  </tbody>\n",
       "</table>\n",
       "</div>"
      ],
      "text/plain": [
       "Empty DataFrame\n",
       "Columns: [name, pop]\n",
       "Index: []"
      ]
     },
     "execution_count": 1081,
     "metadata": {},
     "output_type": "execute_result"
    }
   ],
   "source": [
    "load_cols = ['GEO_NAME', 'DIM: Profile of Census Metropolitan Areas/Census Agglomerations (2247)',\n",
    "            'Dim: Sex (3): Member ID: [1]: Total - Sex']\n",
    "canada_areas = pd.read_csv('../public_data/canadacensusareas.csv', low_memory=False, usecols=load_cols)\\\n",
    "                  .set_axis(['name', 'variable', 'pop'], axis=1)\n",
    "canada_areas = canada_areas[canada_areas['variable'] == 'pop, 2016'].drop(columns=['variable'])\n",
    "canada_areas"
   ]
  },
  {
   "cell_type": "code",
   "execution_count": 1082,
   "metadata": {},
   "outputs": [
    {
     "data": {
      "text/html": [
       "<div>\n",
       "<style scoped>\n",
       "    .dataframe tbody tr th:only-of-type {\n",
       "        vertical-align: middle;\n",
       "    }\n",
       "\n",
       "    .dataframe tbody tr th {\n",
       "        vertical-align: top;\n",
       "    }\n",
       "\n",
       "    .dataframe thead th {\n",
       "        text-align: right;\n",
       "    }\n",
       "</style>\n",
       "<table border=\"1\" class=\"dataframe\">\n",
       "  <thead>\n",
       "    <tr style=\"text-align: right;\">\n",
       "      <th></th>\n",
       "      <th>name</th>\n",
       "      <th>pop</th>\n",
       "    </tr>\n",
       "  </thead>\n",
       "  <tbody>\n",
       "    <tr>\n",
       "      <th>0</th>\n",
       "      <td>Afghanistan</td>\n",
       "      <td>1000000000</td>\n",
       "    </tr>\n",
       "    <tr>\n",
       "      <th>1</th>\n",
       "      <td>Åland Islands</td>\n",
       "      <td>1000000000</td>\n",
       "    </tr>\n",
       "    <tr>\n",
       "      <th>2</th>\n",
       "      <td>Albania</td>\n",
       "      <td>1000000000</td>\n",
       "    </tr>\n",
       "    <tr>\n",
       "      <th>3</th>\n",
       "      <td>Algeria</td>\n",
       "      <td>1000000000</td>\n",
       "    </tr>\n",
       "    <tr>\n",
       "      <th>4</th>\n",
       "      <td>American Samoa</td>\n",
       "      <td>1000000000</td>\n",
       "    </tr>\n",
       "  </tbody>\n",
       "</table>\n",
       "</div>"
      ],
      "text/plain": [
       "             name         pop\n",
       "0     Afghanistan  1000000000\n",
       "1   Åland Islands  1000000000\n",
       "2         Albania  1000000000\n",
       "3         Algeria  1000000000\n",
       "4  American Samoa  1000000000"
      ]
     },
     "execution_count": 1082,
     "metadata": {},
     "output_type": "execute_result"
    }
   ],
   "source": [
    "un_countries = pd.read_csv('../public_data/uncountries.csv', header=None)\n",
    "# Set country pops high so that they take precedence over city names\n",
    "un_countries['pop'] = 1000000000\n",
    "un_countries = un_countries.iloc[:,[0,3]].set_axis(['name', 'pop'], axis=1)\n",
    "un_countries.head()"
   ]
  },
  {
   "cell_type": "code",
   "execution_count": 1083,
   "metadata": {},
   "outputs": [
    {
     "data": {
      "text/html": [
       "<div>\n",
       "<style scoped>\n",
       "    .dataframe tbody tr th:only-of-type {\n",
       "        vertical-align: middle;\n",
       "    }\n",
       "\n",
       "    .dataframe tbody tr th {\n",
       "        vertical-align: top;\n",
       "    }\n",
       "\n",
       "    .dataframe thead th {\n",
       "        text-align: right;\n",
       "    }\n",
       "</style>\n",
       "<table border=\"1\" class=\"dataframe\">\n",
       "  <thead>\n",
       "    <tr style=\"text-align: right;\">\n",
       "      <th></th>\n",
       "      <th>name</th>\n",
       "      <th>pop</th>\n",
       "    </tr>\n",
       "  </thead>\n",
       "  <tbody>\n",
       "  </tbody>\n",
       "</table>\n",
       "</div>"
      ],
      "text/plain": [
       "Empty DataFrame\n",
       "Columns: [name, pop]\n",
       "Index: []"
      ]
     },
     "execution_count": 1083,
     "metadata": {},
     "output_type": "execute_result"
    }
   ],
   "source": [
    "un_countries[un_countries['name'].str.contains('None')]"
   ]
  },
  {
   "cell_type": "code",
   "execution_count": 1084,
   "metadata": {},
   "outputs": [
    {
     "data": {
      "text/html": [
       "<div>\n",
       "<style scoped>\n",
       "    .dataframe tbody tr th:only-of-type {\n",
       "        vertical-align: middle;\n",
       "    }\n",
       "\n",
       "    .dataframe tbody tr th {\n",
       "        vertical-align: top;\n",
       "    }\n",
       "\n",
       "    .dataframe thead th {\n",
       "        text-align: right;\n",
       "    }\n",
       "</style>\n",
       "<table border=\"1\" class=\"dataframe\">\n",
       "  <thead>\n",
       "    <tr style=\"text-align: right;\">\n",
       "      <th></th>\n",
       "      <th>name</th>\n",
       "      <th>pop</th>\n",
       "      <th>in_us</th>\n",
       "    </tr>\n",
       "  </thead>\n",
       "  <tbody>\n",
       "    <tr>\n",
       "      <th>51</th>\n",
       "      <td>Colombia</td>\n",
       "      <td>1000000000</td>\n",
       "      <td>False</td>\n",
       "    </tr>\n",
       "    <tr>\n",
       "      <th>141</th>\n",
       "      <td>Mauritius</td>\n",
       "      <td>1000000000</td>\n",
       "      <td>False</td>\n",
       "    </tr>\n",
       "    <tr>\n",
       "      <th>157</th>\n",
       "      <td>New Zealand</td>\n",
       "      <td>1000000000</td>\n",
       "      <td>False</td>\n",
       "    </tr>\n",
       "    <tr>\n",
       "      <th>156</th>\n",
       "      <td>New Caledonia</td>\n",
       "      <td>1000000000</td>\n",
       "      <td>False</td>\n",
       "    </tr>\n",
       "    <tr>\n",
       "      <th>155</th>\n",
       "      <td>Netherlands</td>\n",
       "      <td>1000000000</td>\n",
       "      <td>False</td>\n",
       "    </tr>\n",
       "    <tr>\n",
       "      <th>...</th>\n",
       "      <td>...</td>\n",
       "      <td>...</td>\n",
       "      <td>...</td>\n",
       "    </tr>\n",
       "    <tr>\n",
       "      <th>905</th>\n",
       "      <td>Bushmills</td>\n",
       "      <td>738</td>\n",
       "      <td>False</td>\n",
       "    </tr>\n",
       "    <tr>\n",
       "      <th>297</th>\n",
       "      <td>JAMESTOWN</td>\n",
       "      <td>657</td>\n",
       "      <td>False</td>\n",
       "    </tr>\n",
       "    <tr>\n",
       "      <th>3991</th>\n",
       "      <td>ALOFI</td>\n",
       "      <td>639</td>\n",
       "      <td>False</td>\n",
       "    </tr>\n",
       "    <tr>\n",
       "      <th>3361</th>\n",
       "      <td>VATICAN CITY</td>\n",
       "      <td>451</td>\n",
       "      <td>False</td>\n",
       "    </tr>\n",
       "    <tr>\n",
       "      <th>4003</th>\n",
       "      <td>ADAMSTOWN</td>\n",
       "      <td>49</td>\n",
       "      <td>False</td>\n",
       "    </tr>\n",
       "  </tbody>\n",
       "</table>\n",
       "<p>13417 rows × 3 columns</p>\n",
       "</div>"
      ],
      "text/plain": [
       "               name         pop  in_us\n",
       "51         Colombia  1000000000  False\n",
       "141       Mauritius  1000000000  False\n",
       "157     New Zealand  1000000000  False\n",
       "156   New Caledonia  1000000000  False\n",
       "155     Netherlands  1000000000  False\n",
       "...             ...         ...    ...\n",
       "905       Bushmills         738  False\n",
       "297       JAMESTOWN         657  False\n",
       "3991          ALOFI         639  False\n",
       "3361   VATICAN CITY         451  False\n",
       "4003      ADAMSTOWN          49  False\n",
       "\n",
       "[13417 rows x 3 columns]"
      ]
     },
     "execution_count": 1084,
     "metadata": {},
     "output_type": "execute_result"
    }
   ],
   "source": [
    "foreign_entities_df = pd.DataFrame(columns=['name','pop'])\n",
    "for df in [un_cities, un_countries, canada_areas, uk_areas]:\n",
    "    foreign_entities_df = foreign_entities_df.append(df.copy())\n",
    "foreign_entities_df['pop'] = foreign_entities_df['pop'].astype(str).str.replace(',', '').astype(int)\n",
    "#foreign_entities_df['name'] = foreign_entities_df['name'].str.lower().str.replace('city','')\n",
    "foreign_entities_df['name'] = foreign_entities_df['name'].str.replace('City','').str.strip()\n",
    "foreign_entities_df['in_us'] = False\n",
    "foreign_entities_df = foreign_entities_df[~(foreign_entities_df['name']=='')]\n",
    "foreign_entities_df = foreign_entities_df[foreign_entities_df['name'].str.len() >= 4]\n",
    "foreign_entities_df.sort_values('pop', ascending=False)"
   ]
  },
  {
   "cell_type": "markdown",
   "metadata": {},
   "source": [
    "# US City Data"
   ]
  },
  {
   "cell_type": "code",
   "execution_count": 1085,
   "metadata": {},
   "outputs": [],
   "source": [
    "states = pd.read_csv('../public_data/usstateabbreviations.csv', names=['abb', 'name'])['name']\n",
    "\n",
    "def extract_state(state):\n",
    "    split = state.split(',')[-1].strip()\n",
    "    # Some state strings have multiple punctuation and require extra filtering,\n",
    "    # e.g., \"Lynchburg, Moore county metropolitan government, Tennessee\"\n",
    "    if ';' in split:\n",
    "        return split.split(';')[-1].strip()\n",
    "    else:\n",
    "        return split"
   ]
  },
  {
   "cell_type": "code",
   "execution_count": 1086,
   "metadata": {},
   "outputs": [],
   "source": [
    "import re\n",
    "def tokenize_cityname(row):\n",
    "    state = row['state']\n",
    "    city = row['raw_name_string']\n",
    "    city = city.split(',')[0]     # Remove State from city name\n",
    "    # These strings were appended by the census; 'and' is for multiple area labels\n",
    "    area_names = ['city', 'village', 'borough', 'town', 'CDP', 'municipality', 'and']\n",
    "    city_and_state = city[:]\n",
    "    for area_name in area_names:\n",
    "        city_and_state = city_and_state.replace(' '+area_name, '', 1)\n",
    "    stripped = city_and_state.strip(' ,')\n",
    "    # Ensures strings like \"Arizona City, Arizona\" are changed to \"Arizona City\"\n",
    "    # and not \"City, Arizona\" after strip.\n",
    "    return state + ' City' if state in stripped else stripped"
   ]
  },
  {
   "cell_type": "code",
   "execution_count": 1087,
   "metadata": {},
   "outputs": [
    {
     "data": {
      "text/plain": [
       "52"
      ]
     },
     "execution_count": 1087,
     "metadata": {},
     "output_type": "execute_result"
    }
   ],
   "source": [
    "len(us_cities_df['state'].unique())"
   ]
  },
  {
   "cell_type": "code",
   "execution_count": 1088,
   "metadata": {},
   "outputs": [
    {
     "name": "stdout",
     "output_type": "stream",
     "text": [
      "(5293, 5)\n"
     ]
    },
    {
     "data": {
      "text/html": [
       "<div>\n",
       "<style scoped>\n",
       "    .dataframe tbody tr th:only-of-type {\n",
       "        vertical-align: middle;\n",
       "    }\n",
       "\n",
       "    .dataframe tbody tr th {\n",
       "        vertical-align: top;\n",
       "    }\n",
       "\n",
       "    .dataframe thead th {\n",
       "        text-align: right;\n",
       "    }\n",
       "</style>\n",
       "<table border=\"1\" class=\"dataframe\">\n",
       "  <thead>\n",
       "    <tr style=\"text-align: right;\">\n",
       "      <th></th>\n",
       "      <th>raw_name_string</th>\n",
       "      <th>pop</th>\n",
       "      <th>state</th>\n",
       "      <th>name</th>\n",
       "      <th>in_us</th>\n",
       "    </tr>\n",
       "  </thead>\n",
       "  <tbody>\n",
       "    <tr>\n",
       "      <th>17551</th>\n",
       "      <td>New York city, New York</td>\n",
       "      <td>8426743</td>\n",
       "      <td>New York</td>\n",
       "      <td>New York</td>\n",
       "      <td>True</td>\n",
       "    </tr>\n",
       "    <tr>\n",
       "      <th>2725</th>\n",
       "      <td>Los Angeles city, California</td>\n",
       "      <td>3900794</td>\n",
       "      <td>California</td>\n",
       "      <td>Los Angeles</td>\n",
       "      <td>True</td>\n",
       "    </tr>\n",
       "    <tr>\n",
       "      <th>6283</th>\n",
       "      <td>Chicago city, Illinois</td>\n",
       "      <td>2717534</td>\n",
       "      <td>Illinois</td>\n",
       "      <td>Chicago</td>\n",
       "      <td>True</td>\n",
       "    </tr>\n",
       "    <tr>\n",
       "      <th>25203</th>\n",
       "      <td>Houston city, Texas</td>\n",
       "      <td>2217706</td>\n",
       "      <td>Texas</td>\n",
       "      <td>Houston</td>\n",
       "      <td>True</td>\n",
       "    </tr>\n",
       "    <tr>\n",
       "      <th>22711</th>\n",
       "      <td>Philadelphia city, Pennsylvania</td>\n",
       "      <td>1555072</td>\n",
       "      <td>Pennsylvania</td>\n",
       "      <td>Philadelphia</td>\n",
       "      <td>True</td>\n",
       "    </tr>\n",
       "  </tbody>\n",
       "</table>\n",
       "</div>"
      ],
      "text/plain": [
       "                       raw_name_string      pop         state          name  \\\n",
       "17551          New York city, New York  8426743      New York     New York    \n",
       "2725      Los Angeles city, California  3900794    California   Los Angeles   \n",
       "6283            Chicago city, Illinois  2717534      Illinois       Chicago   \n",
       "25203              Houston city, Texas  2217706         Texas       Houston   \n",
       "22711  Philadelphia city, Pennsylvania  1555072  Pennsylvania  Philadelphia   \n",
       "\n",
       "       in_us  \n",
       "17551   True  \n",
       "2725    True  \n",
       "6283    True  \n",
       "25203   True  \n",
       "22711   True  "
      ]
     },
     "execution_count": 1088,
     "metadata": {},
     "output_type": "execute_result"
    }
   ],
   "source": [
    "# Load data and apply operations\n",
    "us_cities_df = pd.read_csv('../public_data/usacscities.csv', skiprows=1,\n",
    "                          usecols=['Geographic Area Name', 'Estimate!!Total'])\\\n",
    "                           .set_axis(['raw_name_string', 'pop'], axis=1)\n",
    "us_cities_df = us_cities_df[us_cities_df['pop'] >= 5000] # Filter by population\n",
    "us_cities_df['state'] = us_cities_df['raw_name_string'].apply(extract_state)\n",
    "us_cities_df['name'] = us_cities_df.apply(tokenize_cityname, axis=1)\\\n",
    "    .str.replace('City','')\n",
    "    #.str.lower().str.replace('city', '')\n",
    "us_cities_df = us_cities_df.sort_values('pop', ascending=False)\\\n",
    "                           .drop_duplicates(subset=['name'], keep='first')\n",
    "us_cities_df['in_us'] = True\n",
    "print(us_cities_df.shape)\n",
    "us_cities_df.head()"
   ]
  },
  {
   "cell_type": "markdown",
   "metadata": {},
   "source": [
    "# Merge US & International Cities"
   ]
  },
  {
   "cell_type": "code",
   "execution_count": 1089,
   "metadata": {},
   "outputs": [
    {
     "name": "stdout",
     "output_type": "stream",
     "text": [
      "             name         pop  in_us state raw_name_string\n",
      "0     Afghanistan  1000000000  False  None            None\n",
      "1   Åland Islands  1000000000  False  None            None\n",
      "2         Albania  1000000000  False  None            None\n",
      "3         Algeria  1000000000  False  None            None\n",
      "4  American Samoa  1000000000  False  None            None\n"
     ]
    },
    {
     "data": {
      "text/html": [
       "<div>\n",
       "<style scoped>\n",
       "    .dataframe tbody tr th:only-of-type {\n",
       "        vertical-align: middle;\n",
       "    }\n",
       "\n",
       "    .dataframe tbody tr th {\n",
       "        vertical-align: top;\n",
       "    }\n",
       "\n",
       "    .dataframe thead th {\n",
       "        text-align: right;\n",
       "    }\n",
       "</style>\n",
       "<table border=\"1\" class=\"dataframe\">\n",
       "  <thead>\n",
       "    <tr style=\"text-align: right;\">\n",
       "      <th></th>\n",
       "      <th>raw_name_string</th>\n",
       "      <th>pop</th>\n",
       "      <th>state</th>\n",
       "      <th>name</th>\n",
       "      <th>in_us</th>\n",
       "    </tr>\n",
       "  </thead>\n",
       "  <tbody>\n",
       "    <tr>\n",
       "      <th>138</th>\n",
       "      <td>None</td>\n",
       "      <td>1000000000</td>\n",
       "      <td>None</td>\n",
       "      <td>Marshall Islands</td>\n",
       "      <td>False</td>\n",
       "    </tr>\n",
       "    <tr>\n",
       "      <th>115</th>\n",
       "      <td>None</td>\n",
       "      <td>1000000000</td>\n",
       "      <td>None</td>\n",
       "      <td>Japan</td>\n",
       "      <td>False</td>\n",
       "    </tr>\n",
       "    <tr>\n",
       "      <th>201</th>\n",
       "      <td>None</td>\n",
       "      <td>1000000000</td>\n",
       "      <td>None</td>\n",
       "      <td>Singapore</td>\n",
       "      <td>False</td>\n",
       "    </tr>\n",
       "    <tr>\n",
       "      <th>102</th>\n",
       "      <td>None</td>\n",
       "      <td>1000000000</td>\n",
       "      <td>None</td>\n",
       "      <td>Holy See</td>\n",
       "      <td>False</td>\n",
       "    </tr>\n",
       "    <tr>\n",
       "      <th>103</th>\n",
       "      <td>None</td>\n",
       "      <td>1000000000</td>\n",
       "      <td>None</td>\n",
       "      <td>Honduras</td>\n",
       "      <td>False</td>\n",
       "    </tr>\n",
       "  </tbody>\n",
       "</table>\n",
       "</div>"
      ],
      "text/plain": [
       "    raw_name_string         pop state              name  in_us\n",
       "138            None  1000000000  None  Marshall Islands  False\n",
       "115            None  1000000000  None             Japan  False\n",
       "201            None  1000000000  None         Singapore  False\n",
       "102            None  1000000000  None          Holy See  False\n",
       "103            None  1000000000  None          Honduras  False"
      ]
     },
     "execution_count": 1089,
     "metadata": {},
     "output_type": "execute_result"
    }
   ],
   "source": [
    "foreign_entities_df['state'] = None\n",
    "foreign_entities_df['raw_name_string'] = None\n",
    "#foreign_entities_df = foreign_entities_df.reindex(us_cities_df.columns, axis=1)\n",
    "foreign_entities_df.head()\n",
    "print(foreign_entities_df[foreign_entities_df['pop'] == 1000000000].head())\n",
    "all_entities = us_cities_df.append(foreign_entities_df)\n",
    "all_entities = all_entities.sort_values('pop', ascending=False)\n",
    "all_entities.head()"
   ]
  },
  {
   "cell_type": "markdown",
   "metadata": {},
   "source": [
    "## Format the City Name from the list of cities to include only the city name"
   ]
  },
  {
   "cell_type": "code",
   "execution_count": 1090,
   "metadata": {},
   "outputs": [],
   "source": [
    "def add_variation(df, original, replacement):\n",
    "    to_append = df[df['name'].str.contains(original)].copy()\n",
    "    to_append['name'] = to_append['name'].str.replace(original, replacement)\n",
    "    df = df.append(to_append)\n",
    "    return df\n",
    "\n",
    "replacements = {\n",
    "    'st.': 'st',\n",
    "    'new york':'nyc',\n",
    "    'los angeles':'la'\n",
    "}\n",
    "\n",
    "for k, v in replacements.items():\n",
    "    us_cities_df = add_variation(us_cities_df, k, v)"
   ]
  },
  {
   "cell_type": "code",
   "execution_count": 1091,
   "metadata": {},
   "outputs": [
    {
     "data": {
      "text/plain": [
       "(13417, 5)"
      ]
     },
     "execution_count": 1091,
     "metadata": {},
     "output_type": "execute_result"
    }
   ],
   "source": [
    "foreign_entities_df.shape"
   ]
  },
  {
   "cell_type": "markdown",
   "metadata": {},
   "source": [
    "# State names and abbreviations"
   ]
  },
  {
   "cell_type": "code",
   "execution_count": 1092,
   "metadata": {},
   "outputs": [
    {
     "data": {
      "text/html": [
       "<div>\n",
       "<style scoped>\n",
       "    .dataframe tbody tr th:only-of-type {\n",
       "        vertical-align: middle;\n",
       "    }\n",
       "\n",
       "    .dataframe tbody tr th {\n",
       "        vertical-align: top;\n",
       "    }\n",
       "\n",
       "    .dataframe thead th {\n",
       "        text-align: right;\n",
       "    }\n",
       "</style>\n",
       "<table border=\"1\" class=\"dataframe\">\n",
       "  <thead>\n",
       "    <tr style=\"text-align: right;\">\n",
       "      <th></th>\n",
       "      <th>state_abb</th>\n",
       "      <th>state_name</th>\n",
       "      <th>abb_with_periods</th>\n",
       "    </tr>\n",
       "  </thead>\n",
       "  <tbody>\n",
       "    <tr>\n",
       "      <th>0</th>\n",
       "      <td>AK</td>\n",
       "      <td>Alaska</td>\n",
       "      <td>A.K.</td>\n",
       "    </tr>\n",
       "    <tr>\n",
       "      <th>1</th>\n",
       "      <td>AL</td>\n",
       "      <td>Alabama</td>\n",
       "      <td>A.L.</td>\n",
       "    </tr>\n",
       "    <tr>\n",
       "      <th>2</th>\n",
       "      <td>AR</td>\n",
       "      <td>Arkansas</td>\n",
       "      <td>A.R.</td>\n",
       "    </tr>\n",
       "  </tbody>\n",
       "</table>\n",
       "</div>"
      ],
      "text/plain": [
       "  state_abb state_name abb_with_periods\n",
       "0        AK     Alaska             A.K.\n",
       "1        AL    Alabama             A.L.\n",
       "2        AR   Arkansas             A.R."
      ]
     },
     "execution_count": 1092,
     "metadata": {},
     "output_type": "execute_result"
    }
   ],
   "source": [
    "states_df = pd.read_csv('../public_data/usstateabbreviations.csv', header=None).set_axis(['state_abb','state_name'], axis=1)\n",
    "states_df['abb_with_periods'] = states_df['state_abb'].apply(lambda s: s[0]+'.'+s[1]+'.')\n",
    "states_df.head(3)"
   ]
  },
  {
   "cell_type": "code",
   "execution_count": 1093,
   "metadata": {},
   "outputs": [],
   "source": [
    "state_strings = set([s.lower() for row in states_df.values.tolist() for s in row])"
   ]
  },
  {
   "cell_type": "code",
   "execution_count": 1094,
   "metadata": {
    "collapsed": true,
    "jupyter": {
     "outputs_hidden": true
    }
   },
   "outputs": [
    {
     "data": {
      "text/plain": [
       "{'a.k.',\n",
       " 'a.l.',\n",
       " 'a.r.',\n",
       " 'a.z.',\n",
       " 'ak',\n",
       " 'al',\n",
       " 'alabama',\n",
       " 'alaska',\n",
       " 'ar',\n",
       " 'arizona',\n",
       " 'arkansas',\n",
       " 'az',\n",
       " 'c.a.',\n",
       " 'c.o.',\n",
       " 'c.t.',\n",
       " 'ca',\n",
       " 'california',\n",
       " 'co',\n",
       " 'colorado',\n",
       " 'connecticut',\n",
       " 'ct',\n",
       " 'd.c.',\n",
       " 'd.e.',\n",
       " 'dc',\n",
       " 'de',\n",
       " 'delaware',\n",
       " 'district of columbia',\n",
       " 'f.l.',\n",
       " 'fl',\n",
       " 'florida',\n",
       " 'g.a.',\n",
       " 'ga',\n",
       " 'georgia',\n",
       " 'h.i.',\n",
       " 'hawaii',\n",
       " 'hi',\n",
       " 'i.a.',\n",
       " 'i.d.',\n",
       " 'i.l.',\n",
       " 'i.n.',\n",
       " 'ia',\n",
       " 'id',\n",
       " 'idaho',\n",
       " 'il',\n",
       " 'illinois',\n",
       " 'in',\n",
       " 'indiana',\n",
       " 'iowa',\n",
       " 'k.s.',\n",
       " 'k.y.',\n",
       " 'kansas',\n",
       " 'kentucky',\n",
       " 'ks',\n",
       " 'ky',\n",
       " 'l.a.',\n",
       " 'la',\n",
       " 'louisiana',\n",
       " 'm.a.',\n",
       " 'm.d.',\n",
       " 'm.e.',\n",
       " 'm.i.',\n",
       " 'm.n.',\n",
       " 'm.o.',\n",
       " 'm.s.',\n",
       " 'm.t.',\n",
       " 'ma',\n",
       " 'maine',\n",
       " 'maryland',\n",
       " 'massachusetts',\n",
       " 'md',\n",
       " 'me',\n",
       " 'mi',\n",
       " 'michigan',\n",
       " 'minnesota',\n",
       " 'mississippi',\n",
       " 'missouri',\n",
       " 'mn',\n",
       " 'mo',\n",
       " 'montana',\n",
       " 'ms',\n",
       " 'mt',\n",
       " 'n.c.',\n",
       " 'n.d.',\n",
       " 'n.e.',\n",
       " 'n.h.',\n",
       " 'n.j.',\n",
       " 'n.m.',\n",
       " 'n.v.',\n",
       " 'n.y.',\n",
       " 'nc',\n",
       " 'nd',\n",
       " 'ne',\n",
       " 'nebraska',\n",
       " 'nevada',\n",
       " 'new hampshire',\n",
       " 'new jersey',\n",
       " 'new mexico',\n",
       " 'new york',\n",
       " 'nh',\n",
       " 'nj',\n",
       " 'nm',\n",
       " 'north carolina',\n",
       " 'north dakota',\n",
       " 'nv',\n",
       " 'ny',\n",
       " 'o.h.',\n",
       " 'o.k.',\n",
       " 'o.r.',\n",
       " 'oh',\n",
       " 'ohio',\n",
       " 'ok',\n",
       " 'oklahoma',\n",
       " 'or',\n",
       " 'oregon',\n",
       " 'p.a.',\n",
       " 'p.r.',\n",
       " 'pa',\n",
       " 'pennsylvania',\n",
       " 'pr',\n",
       " 'puerto rico',\n",
       " 'r.i.',\n",
       " 'rhode island',\n",
       " 'ri',\n",
       " 's.c.',\n",
       " 's.d.',\n",
       " 'sc',\n",
       " 'sd',\n",
       " 'south carolina',\n",
       " 'south dakota',\n",
       " 't.n.',\n",
       " 't.x.',\n",
       " 'tennessee',\n",
       " 'texas',\n",
       " 'tn',\n",
       " 'tx',\n",
       " 'u.t.',\n",
       " 'ut',\n",
       " 'utah',\n",
       " 'v.a.',\n",
       " 'v.t.',\n",
       " 'va',\n",
       " 'vermont',\n",
       " 'virginia',\n",
       " 'vt',\n",
       " 'w.a.',\n",
       " 'w.i.',\n",
       " 'w.v.',\n",
       " 'w.y.',\n",
       " 'wa',\n",
       " 'washington',\n",
       " 'west virginia',\n",
       " 'wi',\n",
       " 'wisconsin',\n",
       " 'wv',\n",
       " 'wy',\n",
       " 'wyoming'}"
      ]
     },
     "execution_count": 1094,
     "metadata": {},
     "output_type": "execute_result"
    }
   ],
   "source": [
    "state_strings"
   ]
  },
  {
   "cell_type": "markdown",
   "metadata": {},
   "source": [
    "# Shelving"
   ]
  },
  {
   "cell_type": "code",
   "execution_count": 1097,
   "metadata": {},
   "outputs": [],
   "source": [
    "import shelve\n",
    "shelf = shelve.open('../public_data/location_data')\n",
    "shelf['foreign_entities_df'] = foreign_entities_df\n",
    "shelf['state_strings'] = state_strings\n",
    "shelf['states_df'] = states_df\n",
    "shelf.close()"
   ]
  },
  {
   "cell_type": "code",
   "execution_count": 1096,
   "metadata": {},
   "outputs": [
    {
     "data": {
      "text/html": [
       "<div>\n",
       "<style scoped>\n",
       "    .dataframe tbody tr th:only-of-type {\n",
       "        vertical-align: middle;\n",
       "    }\n",
       "\n",
       "    .dataframe tbody tr th {\n",
       "        vertical-align: top;\n",
       "    }\n",
       "\n",
       "    .dataframe thead th {\n",
       "        text-align: right;\n",
       "    }\n",
       "</style>\n",
       "<table border=\"1\" class=\"dataframe\">\n",
       "  <thead>\n",
       "    <tr style=\"text-align: right;\">\n",
       "      <th></th>\n",
       "      <th>name</th>\n",
       "      <th>pop</th>\n",
       "      <th>in_us</th>\n",
       "      <th>state</th>\n",
       "      <th>raw_name_string</th>\n",
       "    </tr>\n",
       "  </thead>\n",
       "  <tbody>\n",
       "    <tr>\n",
       "      <th>2834</th>\n",
       "      <td>Angeles</td>\n",
       "      <td>411634</td>\n",
       "      <td>False</td>\n",
       "      <td>None</td>\n",
       "      <td>None</td>\n",
       "    </tr>\n",
       "  </tbody>\n",
       "</table>\n",
       "</div>"
      ],
      "text/plain": [
       "         name     pop  in_us state raw_name_string\n",
       "2834  Angeles  411634  False  None            None"
      ]
     },
     "execution_count": 1096,
     "metadata": {},
     "output_type": "execute_result"
    }
   ],
   "source": [
    "foreign_entities_df[foreign_entities_df['name'].str.contains('Angeles')]"
   ]
  },
  {
   "cell_type": "code",
   "execution_count": null,
   "metadata": {},
   "outputs": [],
   "source": []
  }
 ],
 "metadata": {
  "interpreter": {
   "hash": "67e66cc34fcea9068575c7040349fd1af9e8d48304a7856a4ccd5b61c7135b7e"
  },
  "kernelspec": {
   "display_name": "Python 3",
   "language": "python",
   "name": "python3"
  },
  "language_info": {
   "codemirror_mode": {
    "name": "ipython",
    "version": 3
   },
   "file_extension": ".py",
   "mimetype": "text/x-python",
   "name": "python",
   "nbconvert_exporter": "python",
   "pygments_lexer": "ipython3",
   "version": "3.7.7"
  }
 },
 "nbformat": 4,
 "nbformat_minor": 4
}
