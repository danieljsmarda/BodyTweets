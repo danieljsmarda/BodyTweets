{
 "cells": [
  {
   "cell_type": "code",
   "execution_count": 23,
   "metadata": {},
   "outputs": [
    {
     "data": {
      "text/plain": [
       "'/home/smarda/BodyTweets/tweets_code'"
      ]
     },
     "execution_count": 23,
     "metadata": {},
     "output_type": "execute_result"
    }
   ],
   "source": [
    "import shelve\n",
    "import math\n",
    "import pandas as pd\n",
    "import numpy as np\n",
    "from nltk.tokenize import TweetTokenizer\n",
    "from nltk.util import ngrams\n",
    "from read_tweets import parse_raw_tweets\n",
    "from tokenizer import tokenize\n",
    "import os\n",
    "os.getcwd()"
   ]
  },
  {
   "cell_type": "code",
   "execution_count": 24,
   "metadata": {},
   "outputs": [],
   "source": [
    "# Load Tweet Data\n",
    "batch_path = '../private_data/batch.txt'\n",
    "parse_raw_tweets(batch_path)\n",
    "tweet_shelf = shelve.open('../private_data/tweet_processing')\n",
    "users_df = tweet_shelf['users_df']\n",
    "tweets_df = tweet_shelf['tweets_df']\n",
    "tweet_shelf.close()"
   ]
  },
  {
   "cell_type": "code",
   "execution_count": 25,
   "metadata": {},
   "outputs": [],
   "source": [
    "# Load location data\n",
    "location_shelf = shelve.open('../public_data/location_data')\n",
    "state_strings = location_shelf['state_strings']\n",
    "states_df = location_shelf['states_df']\n",
    "states_dict = location_shelf['states_dict']\n",
    "all_entities = location_shelf['all_entities']\n",
    "location_shelf.close()\n"
   ]
  },
  {
   "cell_type": "markdown",
   "metadata": {},
   "source": [
    "### Combining with Location data"
   ]
  },
  {
   "cell_type": "code",
   "execution_count": 26,
   "metadata": {},
   "outputs": [],
   "source": [
    "def get_ngrams(text, n):\n",
    "    n_grams = ngrams(TweetTokenizer().tokenize(text), n)\n",
    "    return [' '.join(grams) for grams in n_grams]\n",
    "def get_state_from_loc_str(loc_s):\n",
    "    tokens = get_ngrams(loc_s, 1) + get_ngrams(loc_s, 2)\n",
    "    states = [states_dict[token] for token in tokens if token in state_strings]\n",
    "    if 'District of Columbia' in states:\n",
    "        return ['District of Columbia']\n",
    "    else:\n",
    "        return states"
   ]
  },
  {
   "cell_type": "code",
   "execution_count": 27,
   "metadata": {},
   "outputs": [],
   "source": [
    "def city_search(loc_s):\n",
    "    subset = all_entities[all_entities['name'].apply(lambda name: name in loc_s)]\n",
    "    best_guess = subset.sort_values('pop', ascending=False).drop_duplicates(subset='name', keep='first')\n",
    "    if best_guess.empty:\n",
    "        return 'no match'\n",
    "    state = best_guess.iloc[0,:]['state']\n",
    "    if state is not None:\n",
    "        return state\n",
    "    elif best_guess.iloc[0,:]['is_foreign']:\n",
    "        return 'foreign'"
   ]
  },
  {
   "cell_type": "code",
   "execution_count": 28,
   "metadata": {},
   "outputs": [
    {
     "data": {
      "text/html": [
       "<div>\n",
       "<style scoped>\n",
       "    .dataframe tbody tr th:only-of-type {\n",
       "        vertical-align: middle;\n",
       "    }\n",
       "\n",
       "    .dataframe tbody tr th {\n",
       "        vertical-align: top;\n",
       "    }\n",
       "\n",
       "    .dataframe thead th {\n",
       "        text-align: right;\n",
       "    }\n",
       "</style>\n",
       "<table border=\"1\" class=\"dataframe\">\n",
       "  <thead>\n",
       "    <tr style=\"text-align: right;\">\n",
       "      <th></th>\n",
       "      <th>author_id</th>\n",
       "      <th>tweet_id</th>\n",
       "      <th>tweet_text</th>\n",
       "      <th>location</th>\n",
       "      <th>state_from_loc_str</th>\n",
       "      <th>state_from_city</th>\n",
       "      <th>final_state</th>\n",
       "    </tr>\n",
       "  </thead>\n",
       "  <tbody>\n",
       "    <tr>\n",
       "      <th>3</th>\n",
       "      <td>940639255373721600</td>\n",
       "      <td>1271114641410789382</td>\n",
       "      <td>RT @keithboykin: General Mark Milley apologize...</td>\n",
       "      <td>Wisconsin, USA</td>\n",
       "      <td>Wisconsin</td>\n",
       "      <td>Wisconsin</td>\n",
       "      <td>Wisconsin</td>\n",
       "    </tr>\n",
       "    <tr>\n",
       "      <th>4</th>\n",
       "      <td>940639255373721600</td>\n",
       "      <td>1271114627993292809</td>\n",
       "      <td>RT @PalmerReport: If Donald Trump were any stu...</td>\n",
       "      <td>Wisconsin, USA</td>\n",
       "      <td>Wisconsin</td>\n",
       "      <td>Wisconsin</td>\n",
       "      <td>Wisconsin</td>\n",
       "    </tr>\n",
       "    <tr>\n",
       "      <th>5</th>\n",
       "      <td>2250004808</td>\n",
       "      <td>1271114640685101056</td>\n",
       "      <td>RT @RyanShead: THIS WAS ON A FRIEND’S PAGE: An...</td>\n",
       "      <td>Phoenix, AZ</td>\n",
       "      <td>Arizona</td>\n",
       "      <td>Arizona</td>\n",
       "      <td>Arizona</td>\n",
       "    </tr>\n",
       "    <tr>\n",
       "      <th>6</th>\n",
       "      <td>1191156183320518658</td>\n",
       "      <td>1271114638759833600</td>\n",
       "      <td>RT @mendelkalmenson: There are quite a few acc...</td>\n",
       "      <td>Sacramento, CA</td>\n",
       "      <td>California</td>\n",
       "      <td>California</td>\n",
       "      <td>California</td>\n",
       "    </tr>\n",
       "    <tr>\n",
       "      <th>7</th>\n",
       "      <td>36640929</td>\n",
       "      <td>1271114631852015621</td>\n",
       "      <td>RT @AdamCC75: GENERAL MILLEY HAS APOLOGIZED.\\n...</td>\n",
       "      <td>Pittsburgh</td>\n",
       "      <td>NaN</td>\n",
       "      <td>Pennsylvania</td>\n",
       "      <td>Pennsylvania</td>\n",
       "    </tr>\n",
       "  </tbody>\n",
       "</table>\n",
       "</div>"
      ],
      "text/plain": [
       "             author_id             tweet_id  \\\n",
       "3   940639255373721600  1271114641410789382   \n",
       "4   940639255373721600  1271114627993292809   \n",
       "5           2250004808  1271114640685101056   \n",
       "6  1191156183320518658  1271114638759833600   \n",
       "7             36640929  1271114631852015621   \n",
       "\n",
       "                                          tweet_text        location  \\\n",
       "3  RT @keithboykin: General Mark Milley apologize...  Wisconsin, USA   \n",
       "4  RT @PalmerReport: If Donald Trump were any stu...  Wisconsin, USA   \n",
       "5  RT @RyanShead: THIS WAS ON A FRIEND’S PAGE: An...     Phoenix, AZ   \n",
       "6  RT @mendelkalmenson: There are quite a few acc...  Sacramento, CA   \n",
       "7  RT @AdamCC75: GENERAL MILLEY HAS APOLOGIZED.\\n...      Pittsburgh   \n",
       "\n",
       "  state_from_loc_str state_from_city   final_state  \n",
       "3          Wisconsin       Wisconsin     Wisconsin  \n",
       "4          Wisconsin       Wisconsin     Wisconsin  \n",
       "5            Arizona         Arizona       Arizona  \n",
       "6         California      California    California  \n",
       "7                NaN    Pennsylvania  Pennsylvania  "
      ]
     },
     "execution_count": 28,
     "metadata": {},
     "output_type": "execute_result"
    }
   ],
   "source": [
    "merged = pd.merge(tweets_df, users_df, on='author_id')\n",
    "merged['state_from_loc_str'] = merged['location'].apply(get_state_from_loc_str)\n",
    "merged['state_from_city'] = merged['location'].apply(city_search)\n",
    "merged = merged.explode('state_from_loc_str')\n",
    "# Return state if state extracted straight from string,\n",
    "# city search otherwise.\n",
    "# This means that state matching takes precedence over foreign city matching.\n",
    "# Multiple US state matches are assigned one value to each matched state.\n",
    "# For duplicate matching on US city and foreign city, use highest population as estime.\n",
    "merged['final_state'] = np.where(~(merged['state_from_loc_str'].isna()), merged['state_from_loc_str'], merged['state_from_city'])\n",
    "# Only keep US data\n",
    "filtered = merged[~(merged['final_state'].isin(['no match', 'foreign']))]\n",
    "filtered.head()"
   ]
  },
  {
   "cell_type": "code",
   "execution_count": 32,
   "metadata": {},
   "outputs": [],
   "source": [
    "interim_path = '../private_data/interim/tweet_locations'\n",
    "master_path = '../private_data/master_dfs'\n",
    "def append_results_to_shelf(filename, key, data):\n",
    "    shelf = shelve.open(filename)\n",
    "    if key not in shelf.keys():\n",
    "        shelf[key] = pd.DataFrame(columns=data.columns)\n",
    "    df = shelf[key]\n",
    "    df = df.append(data)\n",
    "    shelf[key] = df\n",
    "    shelf.close()\n",
    "append_results_to_shelf(interim_path, 'locations', filtered)\n",
    "append_results_to_shelf(master_path, 'geolocated', filtered[['author_id', 'tweet_id', 'tweet_text', 'final_state']])"
   ]
  },
  {
   "cell_type": "code",
   "execution_count": 51,
   "metadata": {},
   "outputs": [],
   "source": [
    "def append_results_parquet(file_location, data):\n",
    "    file_name = file_location+'.parquet.gzip'\n",
    "    try:\n",
    "        df = pd.read_parquet(file_name)\n",
    "    except FileNotFoundError as e:\n",
    "        df = pd.DataFrame(columns=data.columns)\n",
    "    finally:\n",
    "        df = df.append(data)\n",
    "        df.to_parquet(file_name, compression='gzip')"
   ]
  },
  {
   "cell_type": "code",
   "execution_count": 52,
   "metadata": {},
   "outputs": [],
   "source": [
    "append_results_parquet(interim_path, filtered)"
   ]
  },
  {
   "cell_type": "code",
   "execution_count": null,
   "metadata": {},
   "outputs": [],
   "source": [
    "interim = shelve.open(interim_path)\n",
    "[print(k) for k in interim_shelf.keys()]\n",
    "interim_shelf['geolocated']"
   ]
  },
  {
   "cell_type": "code",
   "execution_count": null,
   "metadata": {},
   "outputs": [],
   "source": [
    "master_shelf = shelve.open(master_path)\n",
    "[print(k) for k in master_shelf.keys()]"
   ]
  },
  {
   "cell_type": "code",
   "execution_count": null,
   "metadata": {},
   "outputs": [],
   "source": [
    "master_shelf['geolocated']"
   ]
  },
  {
   "cell_type": "code",
   "execution_count": null,
   "metadata": {},
   "outputs": [],
   "source": [
    "print(pd.__version__)"
   ]
  },
  {
   "cell_type": "code",
   "execution_count": null,
   "metadata": {},
   "outputs": [],
   "source": []
  }
 ],
 "metadata": {
  "kernelspec": {
   "display_name": "Python 3",
   "language": "python",
   "name": "python3"
  },
  "language_info": {
   "codemirror_mode": {
    "name": "ipython",
    "version": 3
   },
   "file_extension": ".py",
   "mimetype": "text/x-python",
   "name": "python",
   "nbconvert_exporter": "python",
   "pygments_lexer": "ipython3",
   "version": "3.6.13"
  }
 },
 "nbformat": 4,
 "nbformat_minor": 4
}
