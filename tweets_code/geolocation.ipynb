{
 "cells": [
  {
   "cell_type": "code",
   "execution_count": 44,
   "metadata": {},
   "outputs": [],
   "source": [
    "import shelve\n",
    "import math\n",
    "import pandas as pd\n",
    "import numpy as np\n",
    "from nltk.tokenize import TweetTokenizer\n",
    "from nltk.util import ngrams\n",
    "from read_tweets import parse_raw_tweets\n",
    "from tokenizer import tokenize"
   ]
  },
  {
   "cell_type": "code",
   "execution_count": 45,
   "metadata": {},
   "outputs": [],
   "source": [
    "# Load Tweet Data\n",
    "batch_path = '../private_data/batch.txt'\n",
    "parse_raw_tweets(batch_path)\n",
    "tweet_shelf = shelve.open('../private_data/tweet_processing')\n",
    "users_df = tweet_shelf['users_df']\n",
    "tweets_df = tweet_shelf['tweets_df']\n",
    "tweet_shelf.close()"
   ]
  },
  {
   "cell_type": "code",
   "execution_count": 46,
   "metadata": {},
   "outputs": [],
   "source": [
    "# Load location data\n",
    "location_shelf = shelve.open('../public_data/location_data')\n",
    "state_strings = location_shelf['state_strings']\n",
    "states_df = location_shelf['states_df']\n",
    "states_dict = location_shelf['states_dict']\n",
    "all_entities = location_shelf['all_entities']\n",
    "location_shelf.close()"
   ]
  },
  {
   "cell_type": "markdown",
   "metadata": {},
   "source": [
    "### Combining with Location data"
   ]
  },
  {
   "cell_type": "code",
   "execution_count": 47,
   "metadata": {},
   "outputs": [],
   "source": [
    "def get_ngrams(text, n):\n",
    "    n_grams = ngrams(TweetTokenizer().tokenize(text), n)\n",
    "    return [' '.join(grams) for grams in n_grams]\n",
    "def get_state_from_loc_str(loc_s):\n",
    "    tokens = get_ngrams(loc_s, 1) + get_ngrams(loc_s, 2)\n",
    "    states = [states_dict[token] for token in tokens if token in state_strings]\n",
    "    if 'District of Columbia' in states:\n",
    "        return ['District of Columbia']\n",
    "    else:\n",
    "        return states"
   ]
  },
  {
   "cell_type": "code",
   "execution_count": 48,
   "metadata": {},
   "outputs": [],
   "source": [
    "def city_search(loc_s):\n",
    "    subset = all_entities[all_entities['name'].apply(lambda name: name in loc_s)]\n",
    "    best_guess = subset.sort_values('pop', ascending=False).drop_duplicates(subset='name', keep='first')\n",
    "    if best_guess.empty:\n",
    "        return 'no match'\n",
    "    state = best_guess.iloc[0,:]['state']\n",
    "    if state is not None:\n",
    "        return state\n",
    "    elif best_guess.iloc[0,:]['is_foreign']:\n",
    "        return 'foreign'"
   ]
  },
  {
   "cell_type": "code",
   "execution_count": 64,
   "metadata": {},
   "outputs": [],
   "source": [
    "merged = pd.merge(tweets_df, users_df, on='author_id')\n",
    "merged['state_from_loc_str'] = merged['location'].apply(get_state_from_loc_str)\n",
    "merged['state_from_city'] = merged['location'].apply(city_search)\n",
    "merged = merged.explode('state_from_loc_str')\n",
    "# Return state if state extracted straight from string,\n",
    "# city search otherwise.\n",
    "# This means that state matching takes precedence over foreign city matching.\n",
    "# Multiple US state matches are assigned one value to each matched state.\n",
    "# For duplicate matching on US city and foreign city, use highest population as estime.\n",
    "merged['final_state'] = np.where(~(merged['state_from_loc_str'].isna()), merged['state_from_loc_str'], merged['state_from_city'])\n",
    "# Only keep US data\n",
    "filtered = merged[~(merged['final_state'].isin(['no match', 'foreign']))]"
   ]
  },
  {
   "cell_type": "code",
   "execution_count": 62,
   "metadata": {},
   "outputs": [],
   "source": [
    "interim_shelf = shelve.open('../private_data/interim/tweet_locations')\n",
    "try:\n",
    "    interim_shelf['locations'] = interim_shelf['locations'].append(filtered)\n",
    "except KeyError:\n",
    "    interim_shelf['locations'] = pd.DataFrame(columns=filtered.columns)\n",
    "interim_shelf.close()\n",
    "\n",
    "master_shelf = shelve.open('../private_data/master_dfs')\n",
    "try:\n",
    "    master_shelf['geolocated'] = filtered[['author_id', 'tweet_id', 'tweet_text', 'final_state']]\n",
    "except KeyError:\n",
    "    master_shelf['geolocated'] = pd.DataFrame(columns=['author_id', 'tweet_id', 'tweet_text', 'final_state'])"
   ]
  }
 ],
 "metadata": {
  "kernelspec": {
   "display_name": "Python 3",
   "language": "python",
   "name": "python3"
  },
  "language_info": {
   "codemirror_mode": {
    "name": "ipython",
    "version": 3
   },
   "file_extension": ".py",
   "mimetype": "text/x-python",
   "name": "python",
   "nbconvert_exporter": "python",
   "pygments_lexer": "ipython3",
   "version": "3.7.7"
  }
 },
 "nbformat": 4,
 "nbformat_minor": 4
}
