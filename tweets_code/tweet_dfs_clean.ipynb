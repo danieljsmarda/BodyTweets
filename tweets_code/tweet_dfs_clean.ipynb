{
 "cells": [
  {
   "cell_type": "code",
   "execution_count": 36,
   "metadata": {},
   "outputs": [],
   "source": [
    "import shelve\n",
    "import math\n",
    "import pandas as pd\n",
    "import numpy as np\n",
    "from nltk.tokenize import TweetTokenizer\n",
    "from nltk.util import ngrams\n",
    "from read_tweets import parse_raw_tweets\n",
    "from tokenizer import tokenize"
   ]
  },
  {
   "cell_type": "code",
   "execution_count": 37,
   "metadata": {},
   "outputs": [],
   "source": [
    "# Load Tweet Data\n",
    "batch_path = '../private_data/batch.txt'\n",
    "parse_raw_tweets(batch_path)\n",
    "tweet_shelf = shelve.open('../private_data/tweet_processing')\n",
    "users_df = tweet_shelf['users_df']\n",
    "tweets_df = tweet_shelf['tweets_df']\n",
    "tweet_shelf.close()"
   ]
  },
  {
   "cell_type": "code",
   "execution_count": 38,
   "metadata": {},
   "outputs": [],
   "source": [
    "# Load location data\n",
    "location_shelf = shelve.open('../public_data/location_data')\n",
    "state_strings = location_shelf['state_strings']\n",
    "states_df = location_shelf['states_df']\n",
    "states_dict = location_shelf['states_dict']\n",
    "all_entities = location_shelf['all_entities']\n",
    "location_shelf.close()"
   ]
  },
  {
   "cell_type": "markdown",
   "metadata": {},
   "source": [
    "### Combining with Location data"
   ]
  },
  {
   "cell_type": "code",
   "execution_count": 39,
   "metadata": {},
   "outputs": [],
   "source": [
    "def get_ngrams(text, n):\n",
    "    n_grams = ngrams(TweetTokenizer().tokenize(text), n)\n",
    "    return [ ' '.join(grams) for grams in n_grams]\n",
    "def state_from_loc_str(loc_s):\n",
    "    tokens = get_ngrams(loc_s, 1) + get_ngrams(loc_s, 2)\n",
    "    states = [states_dict[token] for token in tokens if token in state_strings]\n",
    "    if 'District of Columbia' in states:\n",
    "        return ['District of Columbia']\n",
    "    else:\n",
    "        return states"
   ]
  },
  {
   "cell_type": "code",
   "execution_count": 40,
   "metadata": {},
   "outputs": [],
   "source": [
    "def city_search(loc_s):\n",
    "    subset = all_entities[all_entities['name'].apply(lambda name: name in loc_s)]\n",
    "    best_guess = subset.sort_values('pop', ascending=False).drop_duplicates(subset='name', keep='first')\n",
    "    if best_guess.empty:\n",
    "        return 'no match'\n",
    "    state = best_guess.iloc[0,:]['state']\n",
    "    if state is not None:\n",
    "        return state\n",
    "    elif best_guess.iloc[0,:]['is_foreign']:\n",
    "        return 'foreign'"
   ]
  },
  {
   "cell_type": "code",
   "execution_count": 41,
   "metadata": {},
   "outputs": [
    {
     "data": {
      "text/html": [
       "<div>\n",
       "<style scoped>\n",
       "    .dataframe tbody tr th:only-of-type {\n",
       "        vertical-align: middle;\n",
       "    }\n",
       "\n",
       "    .dataframe tbody tr th {\n",
       "        vertical-align: top;\n",
       "    }\n",
       "\n",
       "    .dataframe thead th {\n",
       "        text-align: right;\n",
       "    }\n",
       "</style>\n",
       "<table border=\"1\" class=\"dataframe\">\n",
       "  <thead>\n",
       "    <tr style=\"text-align: right;\">\n",
       "      <th></th>\n",
       "      <th>author_id</th>\n",
       "      <th>tweet_id</th>\n",
       "      <th>tweet_text</th>\n",
       "      <th>location</th>\n",
       "      <th>states</th>\n",
       "      <th>state_from_city</th>\n",
       "      <th>final_state</th>\n",
       "    </tr>\n",
       "  </thead>\n",
       "  <tbody>\n",
       "    <tr>\n",
       "      <th>0</th>\n",
       "      <td>197715581</td>\n",
       "      <td>1271114681168658435</td>\n",
       "      <td>RT @keithboykin: General Mark Milley apologize...</td>\n",
       "      <td>Nederland</td>\n",
       "      <td>NaN</td>\n",
       "      <td>Texas</td>\n",
       "      <td>Texas</td>\n",
       "    </tr>\n",
       "    <tr>\n",
       "      <th>1</th>\n",
       "      <td>3411140663</td>\n",
       "      <td>1271114680996630530</td>\n",
       "      <td>RT @charliekirk11: Do you think if Trump suppo...</td>\n",
       "      <td>Ponte Vedra Beach, FL</td>\n",
       "      <td>Florida</td>\n",
       "      <td>foreign</td>\n",
       "      <td>Florida</td>\n",
       "    </tr>\n",
       "    <tr>\n",
       "      <th>2</th>\n",
       "      <td>882582543400402944</td>\n",
       "      <td>1271114680849793024</td>\n",
       "      <td>RT @charliekirk11: Do you think if Trump suppo...</td>\n",
       "      <td>USA</td>\n",
       "      <td>NaN</td>\n",
       "      <td>no match</td>\n",
       "      <td>no match</td>\n",
       "    </tr>\n",
       "    <tr>\n",
       "      <th>3</th>\n",
       "      <td>362306960</td>\n",
       "      <td>1271114680753414145</td>\n",
       "      <td>RT @AprilDRyan: Pastor Darrell Scott is the ar...</td>\n",
       "      <td>where I'm at</td>\n",
       "      <td>NaN</td>\n",
       "      <td>no match</td>\n",
       "      <td>no match</td>\n",
       "    </tr>\n",
       "    <tr>\n",
       "      <th>4</th>\n",
       "      <td>550561121</td>\n",
       "      <td>1271114680463998977</td>\n",
       "      <td>RT @bessbell: I say this as a Jewish person wh...</td>\n",
       "      <td>Virginia, USA</td>\n",
       "      <td>Virginia</td>\n",
       "      <td>Virginia</td>\n",
       "      <td>Virginia</td>\n",
       "    </tr>\n",
       "  </tbody>\n",
       "</table>\n",
       "</div>"
      ],
      "text/plain": [
       "            author_id             tweet_id  \\\n",
       "0           197715581  1271114681168658435   \n",
       "1          3411140663  1271114680996630530   \n",
       "2  882582543400402944  1271114680849793024   \n",
       "3           362306960  1271114680753414145   \n",
       "4           550561121  1271114680463998977   \n",
       "\n",
       "                                          tweet_text               location  \\\n",
       "0  RT @keithboykin: General Mark Milley apologize...              Nederland   \n",
       "1  RT @charliekirk11: Do you think if Trump suppo...  Ponte Vedra Beach, FL   \n",
       "2  RT @charliekirk11: Do you think if Trump suppo...                    USA   \n",
       "3  RT @AprilDRyan: Pastor Darrell Scott is the ar...           where I'm at   \n",
       "4  RT @bessbell: I say this as a Jewish person wh...          Virginia, USA   \n",
       "\n",
       "     states state_from_city final_state  \n",
       "0       NaN           Texas       Texas  \n",
       "1   Florida         foreign     Florida  \n",
       "2       NaN        no match    no match  \n",
       "3       NaN        no match    no match  \n",
       "4  Virginia        Virginia    Virginia  "
      ]
     },
     "execution_count": 41,
     "metadata": {},
     "output_type": "execute_result"
    }
   ],
   "source": [
    "merged = pd.merge(tweets_df, users_df, on='author_id')\n",
    "merged['states'] = merged['location'].apply(state_from_loc_str)\n",
    "merged['state_from_city'] = merged['location'].apply(city_search)\n",
    "merged = merged.explode('states')\n",
    "# Return state if state extracted straight from string,\n",
    "# city search otherwise.\n",
    "# This means that state matching takes precedence over foreign city matching.\n",
    "# Multiple US state matches are assigned one value to each matched state.\n",
    "# For duplicate matching on US city and foreign city, use highest population as estime.\n",
    "merged['final_state'] = np.where(~(merged['states'].isna()), merged['states'], merged['state_from_city'])\n",
    "merged.head()"
   ]
  },
  {
   "cell_type": "code",
   "execution_count": null,
   "metadata": {},
   "outputs": [],
   "source": []
  }
 ],
 "metadata": {
  "kernelspec": {
   "display_name": "Python 3",
   "language": "python",
   "name": "python3"
  },
  "language_info": {
   "codemirror_mode": {
    "name": "ipython",
    "version": 3
   },
   "file_extension": ".py",
   "mimetype": "text/x-python",
   "name": "python",
   "nbconvert_exporter": "python",
   "pygments_lexer": "ipython3",
   "version": "3.7.7"
  }
 },
 "nbformat": 4,
 "nbformat_minor": 4
}
