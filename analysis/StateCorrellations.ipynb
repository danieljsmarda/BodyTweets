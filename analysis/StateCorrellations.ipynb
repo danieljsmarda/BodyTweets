{
 "cells": [
  {
   "cell_type": "code",
   "execution_count": 1,
   "id": "215d9134-9c59-4e7d-a5ed-5efb5ef83a7b",
   "metadata": {},
   "outputs": [],
   "source": [
    "import pandas as pd"
   ]
  },
  {
   "cell_type": "code",
   "execution_count": 2,
   "id": "7e7b2ea5-3172-4798-9e21-2b19898871c3",
   "metadata": {},
   "outputs": [
    {
     "data": {
      "text/html": [
       "<div>\n",
       "<style scoped>\n",
       "    .dataframe tbody tr th:only-of-type {\n",
       "        vertical-align: middle;\n",
       "    }\n",
       "\n",
       "    .dataframe tbody tr th {\n",
       "        vertical-align: top;\n",
       "    }\n",
       "\n",
       "    .dataframe thead th {\n",
       "        text-align: right;\n",
       "    }\n",
       "</style>\n",
       "<table border=\"1\" class=\"dataframe\">\n",
       "  <thead>\n",
       "    <tr style=\"text-align: right;\">\n",
       "      <th></th>\n",
       "      <th>author_id</th>\n",
       "      <th>tweet_id</th>\n",
       "      <th>tweet_text</th>\n",
       "      <th>created_at</th>\n",
       "      <th>next_token</th>\n",
       "      <th>final_state</th>\n",
       "      <th>joy</th>\n",
       "      <th>surprise</th>\n",
       "      <th>fear</th>\n",
       "      <th>anger</th>\n",
       "      <th>sadness</th>\n",
       "      <th>disgust</th>\n",
       "    </tr>\n",
       "  </thead>\n",
       "  <tbody>\n",
       "    <tr>\n",
       "      <th>0</th>\n",
       "      <td>193851688</td>\n",
       "      <td>295969488942288896</td>\n",
       "      <td>It's literally like knives are being plunged i...</td>\n",
       "      <td>2013-01-28T18:59:59.000Z</td>\n",
       "      <td>1jzu9lk96gu5npvzzymnrxxn1nib59kz0vmizbbxmfst</td>\n",
       "      <td>Nebraska</td>\n",
       "      <td>0.050008</td>\n",
       "      <td>0.029231</td>\n",
       "      <td>0.125249</td>\n",
       "      <td>0.050691</td>\n",
       "      <td>0.412114</td>\n",
       "      <td>0.332706</td>\n",
       "    </tr>\n",
       "    <tr>\n",
       "      <th>1</th>\n",
       "      <td>110575831</td>\n",
       "      <td>295969488120201216</td>\n",
       "      <td>The whole right side of my body hurts.</td>\n",
       "      <td>2013-01-28T18:59:59.000Z</td>\n",
       "      <td>1jzu9lk96gu5npvzzymnrxxn1nib59kz0vmizbbxmfst</td>\n",
       "      <td>Puerto Rico</td>\n",
       "      <td>0.021590</td>\n",
       "      <td>0.004403</td>\n",
       "      <td>0.034428</td>\n",
       "      <td>0.039123</td>\n",
       "      <td>0.760874</td>\n",
       "      <td>0.139582</td>\n",
       "    </tr>\n",
       "    <tr>\n",
       "      <th>2</th>\n",
       "      <td>61044794</td>\n",
       "      <td>295969487172280322</td>\n",
       "      <td>Great @BikramYoga_rva class ;) my body needed it</td>\n",
       "      <td>2013-01-28T18:59:59.000Z</td>\n",
       "      <td>1jzu9lk96gu5npvzzymnrxxn1nib59kz0vmizbbxmfst</td>\n",
       "      <td>Florida</td>\n",
       "      <td>0.720429</td>\n",
       "      <td>0.016701</td>\n",
       "      <td>0.055441</td>\n",
       "      <td>0.016712</td>\n",
       "      <td>0.125736</td>\n",
       "      <td>0.064981</td>\n",
       "    </tr>\n",
       "    <tr>\n",
       "      <th>3</th>\n",
       "      <td>788084582</td>\n",
       "      <td>295969485700087809</td>\n",
       "      <td>What a great chest &amp;amp; tricep workout with t...</td>\n",
       "      <td>2013-01-28T18:59:58.000Z</td>\n",
       "      <td>1jzu9lk96gu5npvzzymnrxxn1nib59kz0vmizbbxmfst</td>\n",
       "      <td>Texas</td>\n",
       "      <td>0.967715</td>\n",
       "      <td>0.002706</td>\n",
       "      <td>0.014748</td>\n",
       "      <td>0.003146</td>\n",
       "      <td>0.004461</td>\n",
       "      <td>0.007223</td>\n",
       "    </tr>\n",
       "    <tr>\n",
       "      <th>4</th>\n",
       "      <td>721257134</td>\n",
       "      <td>295969483854589954</td>\n",
       "      <td>Seriously dude, stop breathing in my face</td>\n",
       "      <td>2013-01-28T18:59:58.000Z</td>\n",
       "      <td>1jzu9lk96gu5npvzzymnrxxn1nib59kz0vmizbbxmfst</td>\n",
       "      <td>Idaho</td>\n",
       "      <td>0.084153</td>\n",
       "      <td>0.006059</td>\n",
       "      <td>0.024408</td>\n",
       "      <td>0.385894</td>\n",
       "      <td>0.092785</td>\n",
       "      <td>0.406701</td>\n",
       "    </tr>\n",
       "  </tbody>\n",
       "</table>\n",
       "</div>"
      ],
      "text/plain": [
       "   author_id            tweet_id  \\\n",
       "0  193851688  295969488942288896   \n",
       "1  110575831  295969488120201216   \n",
       "2   61044794  295969487172280322   \n",
       "3  788084582  295969485700087809   \n",
       "4  721257134  295969483854589954   \n",
       "\n",
       "                                          tweet_text  \\\n",
       "0  It's literally like knives are being plunged i...   \n",
       "1             The whole right side of my body hurts.   \n",
       "2   Great @BikramYoga_rva class ;) my body needed it   \n",
       "3  What a great chest &amp; tricep workout with t...   \n",
       "4          Seriously dude, stop breathing in my face   \n",
       "\n",
       "                 created_at                                    next_token  \\\n",
       "0  2013-01-28T18:59:59.000Z  1jzu9lk96gu5npvzzymnrxxn1nib59kz0vmizbbxmfst   \n",
       "1  2013-01-28T18:59:59.000Z  1jzu9lk96gu5npvzzymnrxxn1nib59kz0vmizbbxmfst   \n",
       "2  2013-01-28T18:59:59.000Z  1jzu9lk96gu5npvzzymnrxxn1nib59kz0vmizbbxmfst   \n",
       "3  2013-01-28T18:59:58.000Z  1jzu9lk96gu5npvzzymnrxxn1nib59kz0vmizbbxmfst   \n",
       "4  2013-01-28T18:59:58.000Z  1jzu9lk96gu5npvzzymnrxxn1nib59kz0vmizbbxmfst   \n",
       "\n",
       "   final_state       joy  surprise      fear     anger   sadness   disgust  \n",
       "0     Nebraska  0.050008  0.029231  0.125249  0.050691  0.412114  0.332706  \n",
       "1  Puerto Rico  0.021590  0.004403  0.034428  0.039123  0.760874  0.139582  \n",
       "2      Florida  0.720429  0.016701  0.055441  0.016712  0.125736  0.064981  \n",
       "3        Texas  0.967715  0.002706  0.014748  0.003146  0.004461  0.007223  \n",
       "4        Idaho  0.084153  0.006059  0.024408  0.385894  0.092785  0.406701  "
      ]
     },
     "execution_count": 2,
     "metadata": {},
     "output_type": "execute_result"
    }
   ],
   "source": [
    "scores_df = pd.read_parquet('/dlabdata1/smarda/private_data/master/tweets_with_scores.parquet.gzip')\n",
    "scores_df.head()"
   ]
  },
  {
   "cell_type": "code",
   "execution_count": 5,
   "id": "734332e1-720e-4ac5-845e-d93d20687f0f",
   "metadata": {},
   "outputs": [
    {
     "data": {
      "text/plain": [
       "982"
      ]
     },
     "execution_count": 5,
     "metadata": {},
     "output_type": "execute_result"
    }
   ],
   "source": [
    "sum(scores_df['final_state'] == 'Puerto Rico')"
   ]
  },
  {
   "cell_type": "code",
   "execution_count": null,
   "id": "5d2247ee-d660-4afb-a34c-d5e96e1b5e97",
   "metadata": {},
   "outputs": [],
   "source": []
  }
 ],
 "metadata": {
  "kernelspec": {
   "display_name": "Python 3",
   "language": "python",
   "name": "python3"
  },
  "language_info": {
   "codemirror_mode": {
    "name": "ipython",
    "version": 3
   },
   "file_extension": ".py",
   "mimetype": "text/x-python",
   "name": "python",
   "nbconvert_exporter": "python",
   "pygments_lexer": "ipython3",
   "version": "3.6.13"
  }
 },
 "nbformat": 4,
 "nbformat_minor": 5
}
