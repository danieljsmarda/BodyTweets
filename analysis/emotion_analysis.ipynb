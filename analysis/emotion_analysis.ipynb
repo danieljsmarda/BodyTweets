{
 "cells": [
  {
   "cell_type": "code",
   "execution_count": 1,
   "id": "85273271-6816-4a81-bbc6-b2eb42999c92",
   "metadata": {},
   "outputs": [],
   "source": [
    "import pandas as pd\n",
    "import numpy as np\n",
    "import seaborn as sns\n",
    "import matplotlib.pyplot as plt\n",
    "from tqdm import tqdm\n",
    "sns.set()\n",
    "sns.set_style('dark')"
   ]
  },
  {
   "cell_type": "code",
   "execution_count": 2,
   "id": "79691e1e-7898-4623-ab6e-d3a203968fed",
   "metadata": {},
   "outputs": [],
   "source": [
    "save_dir = '/home/smarda/Writing/BodyTweetsPaper/figures/'"
   ]
  },
  {
   "cell_type": "code",
   "execution_count": 3,
   "id": "849223eb-93bf-4cdc-a950-505c77bea7e1",
   "metadata": {},
   "outputs": [],
   "source": [
    "tweets_path = '/dlabdata1/smarda/private_data/master/tweets_with_scores.parquet.gzip'\n",
    "emotions = ['joy', 'surprise', 'fear', 'anger', 'sadness', 'disgust']\n",
    "colors = ['royalblue','cornflowerblue', 'brown','gold', 'darkorange','darkgoldenrod']\n",
    "tab_colors = ['tab:blue','tab:orange','tab:green','tab:red','tab:purple','tab:brown']"
   ]
  },
  {
   "cell_type": "code",
   "execution_count": 4,
   "id": "ac134863-f6c1-4a7a-a69a-597db2542a9e",
   "metadata": {},
   "outputs": [
    {
     "data": {
      "text/html": [
       "<div>\n",
       "<style scoped>\n",
       "    .dataframe tbody tr th:only-of-type {\n",
       "        vertical-align: middle;\n",
       "    }\n",
       "\n",
       "    .dataframe tbody tr th {\n",
       "        vertical-align: top;\n",
       "    }\n",
       "\n",
       "    .dataframe thead th {\n",
       "        text-align: right;\n",
       "    }\n",
       "</style>\n",
       "<table border=\"1\" class=\"dataframe\">\n",
       "  <thead>\n",
       "    <tr style=\"text-align: right;\">\n",
       "      <th></th>\n",
       "      <th>author_id</th>\n",
       "      <th>tweet_id</th>\n",
       "      <th>tweet_text</th>\n",
       "      <th>created_at</th>\n",
       "      <th>next_token</th>\n",
       "      <th>final_state</th>\n",
       "      <th>joy</th>\n",
       "      <th>surprise</th>\n",
       "      <th>fear</th>\n",
       "      <th>anger</th>\n",
       "      <th>sadness</th>\n",
       "      <th>disgust</th>\n",
       "      <th>tokens</th>\n",
       "      <th>vader_score</th>\n",
       "    </tr>\n",
       "  </thead>\n",
       "  <tbody>\n",
       "    <tr>\n",
       "      <th>0</th>\n",
       "      <td>193851688</td>\n",
       "      <td>295969488942288896</td>\n",
       "      <td>It's literally like knives are being plunged i...</td>\n",
       "      <td>2013-01-28 18:59:59+00:00</td>\n",
       "      <td>1jzu9lk96gu5npvzzymnrxxn1nib59kz0vmizbbxmfst</td>\n",
       "      <td>Nebraska</td>\n",
       "      <td>0.050008</td>\n",
       "      <td>0.029231</td>\n",
       "      <td>0.125249</td>\n",
       "      <td>0.050691</td>\n",
       "      <td>0.412114</td>\n",
       "      <td>0.332706</td>\n",
       "      <td>[It's, literally, like, knives, are, being, pl...</td>\n",
       "      <td>0.3612</td>\n",
       "    </tr>\n",
       "    <tr>\n",
       "      <th>1</th>\n",
       "      <td>110575831</td>\n",
       "      <td>295969488120201216</td>\n",
       "      <td>The whole right side of my body hurts.</td>\n",
       "      <td>2013-01-28 18:59:59+00:00</td>\n",
       "      <td>1jzu9lk96gu5npvzzymnrxxn1nib59kz0vmizbbxmfst</td>\n",
       "      <td>Puerto Rico</td>\n",
       "      <td>0.021590</td>\n",
       "      <td>0.004403</td>\n",
       "      <td>0.034428</td>\n",
       "      <td>0.039123</td>\n",
       "      <td>0.760874</td>\n",
       "      <td>0.139582</td>\n",
       "      <td>[The, whole, right, side, of, my, body, hurts,...</td>\n",
       "      <td>-0.4767</td>\n",
       "    </tr>\n",
       "    <tr>\n",
       "      <th>2</th>\n",
       "      <td>61044794</td>\n",
       "      <td>295969487172280322</td>\n",
       "      <td>Great @BikramYoga_rva class ;) my body needed it</td>\n",
       "      <td>2013-01-28 18:59:59+00:00</td>\n",
       "      <td>1jzu9lk96gu5npvzzymnrxxn1nib59kz0vmizbbxmfst</td>\n",
       "      <td>Florida</td>\n",
       "      <td>0.720429</td>\n",
       "      <td>0.016701</td>\n",
       "      <td>0.055441</td>\n",
       "      <td>0.016712</td>\n",
       "      <td>0.125736</td>\n",
       "      <td>0.064981</td>\n",
       "      <td>[Great, @BikramYoga_rva, class, ;), my, body, ...</td>\n",
       "      <td>0.7184</td>\n",
       "    </tr>\n",
       "    <tr>\n",
       "      <th>3</th>\n",
       "      <td>788084582</td>\n",
       "      <td>295969485700087809</td>\n",
       "      <td>What a great chest &amp;amp; tricep workout with t...</td>\n",
       "      <td>2013-01-28 18:59:58+00:00</td>\n",
       "      <td>1jzu9lk96gu5npvzzymnrxxn1nib59kz0vmizbbxmfst</td>\n",
       "      <td>Texas</td>\n",
       "      <td>0.967715</td>\n",
       "      <td>0.002706</td>\n",
       "      <td>0.014748</td>\n",
       "      <td>0.003146</td>\n",
       "      <td>0.004461</td>\n",
       "      <td>0.007223</td>\n",
       "      <td>[What, a, great, chest, &amp;, tricep, workout, wi...</td>\n",
       "      <td>0.7405</td>\n",
       "    </tr>\n",
       "    <tr>\n",
       "      <th>4</th>\n",
       "      <td>721257134</td>\n",
       "      <td>295969483854589954</td>\n",
       "      <td>Seriously dude, stop breathing in my face</td>\n",
       "      <td>2013-01-28 18:59:58+00:00</td>\n",
       "      <td>1jzu9lk96gu5npvzzymnrxxn1nib59kz0vmizbbxmfst</td>\n",
       "      <td>Idaho</td>\n",
       "      <td>0.084153</td>\n",
       "      <td>0.006059</td>\n",
       "      <td>0.024408</td>\n",
       "      <td>0.385894</td>\n",
       "      <td>0.092785</td>\n",
       "      <td>0.406701</td>\n",
       "      <td>[Seriously, dude, ,, stop, breathing, in, my, ...</td>\n",
       "      <td>-0.4404</td>\n",
       "    </tr>\n",
       "  </tbody>\n",
       "</table>\n",
       "</div>"
      ],
      "text/plain": [
       "   author_id            tweet_id  \\\n",
       "0  193851688  295969488942288896   \n",
       "1  110575831  295969488120201216   \n",
       "2   61044794  295969487172280322   \n",
       "3  788084582  295969485700087809   \n",
       "4  721257134  295969483854589954   \n",
       "\n",
       "                                          tweet_text  \\\n",
       "0  It's literally like knives are being plunged i...   \n",
       "1             The whole right side of my body hurts.   \n",
       "2   Great @BikramYoga_rva class ;) my body needed it   \n",
       "3  What a great chest &amp; tricep workout with t...   \n",
       "4          Seriously dude, stop breathing in my face   \n",
       "\n",
       "                 created_at                                    next_token  \\\n",
       "0 2013-01-28 18:59:59+00:00  1jzu9lk96gu5npvzzymnrxxn1nib59kz0vmizbbxmfst   \n",
       "1 2013-01-28 18:59:59+00:00  1jzu9lk96gu5npvzzymnrxxn1nib59kz0vmizbbxmfst   \n",
       "2 2013-01-28 18:59:59+00:00  1jzu9lk96gu5npvzzymnrxxn1nib59kz0vmizbbxmfst   \n",
       "3 2013-01-28 18:59:58+00:00  1jzu9lk96gu5npvzzymnrxxn1nib59kz0vmizbbxmfst   \n",
       "4 2013-01-28 18:59:58+00:00  1jzu9lk96gu5npvzzymnrxxn1nib59kz0vmizbbxmfst   \n",
       "\n",
       "   final_state       joy  surprise      fear     anger   sadness   disgust  \\\n",
       "0     Nebraska  0.050008  0.029231  0.125249  0.050691  0.412114  0.332706   \n",
       "1  Puerto Rico  0.021590  0.004403  0.034428  0.039123  0.760874  0.139582   \n",
       "2      Florida  0.720429  0.016701  0.055441  0.016712  0.125736  0.064981   \n",
       "3        Texas  0.967715  0.002706  0.014748  0.003146  0.004461  0.007223   \n",
       "4        Idaho  0.084153  0.006059  0.024408  0.385894  0.092785  0.406701   \n",
       "\n",
       "                                              tokens  vader_score  \n",
       "0  [It's, literally, like, knives, are, being, pl...       0.3612  \n",
       "1  [The, whole, right, side, of, my, body, hurts,...      -0.4767  \n",
       "2  [Great, @BikramYoga_rva, class, ;), my, body, ...       0.7184  \n",
       "3  [What, a, great, chest, &, tricep, workout, wi...       0.7405  \n",
       "4  [Seriously, dude, ,, stop, breathing, in, my, ...      -0.4404  "
      ]
     },
     "execution_count": 4,
     "metadata": {},
     "output_type": "execute_result"
    }
   ],
   "source": [
    "tweets_df = pd.read_parquet('/dlabdata1/smarda/private_data/master/tweets_with_scores.parquet.gzip')\n",
    "tweets_df.head()"
   ]
  },
  {
   "cell_type": "code",
   "execution_count": 5,
   "id": "e7d0741f-c6c7-4f20-8241-080b640ef776",
   "metadata": {},
   "outputs": [
    {
     "data": {
      "text/plain": [
       "Timestamp('2017-05-30 19:28:51+0000', tz='UTC')"
      ]
     },
     "execution_count": 5,
     "metadata": {},
     "output_type": "execute_result"
    }
   ],
   "source": [
    "start_date = '2017-05-28'\n",
    "end_date = '2017-06-01'\n",
    "tweets_df['created_at'] = pd.to_datetime(tweets_df['created_at'])\n",
    "tweets_df['created_at'][(tweets_df['created_at'] > start_date) & (tweets_df['created_at'] < end_date)].min()"
   ]
  },
  {
   "cell_type": "code",
   "execution_count": 6,
   "id": "dc4b3ded-85bd-4635-8323-0df2c5dfd056",
   "metadata": {},
   "outputs": [
    {
     "data": {
      "text/plain": [
       "7727"
      ]
     },
     "execution_count": 6,
     "metadata": {},
     "output_type": "execute_result"
    }
   ],
   "source": [
    "tweets_df['tweet_id'].shape[0] - tweets_df['tweet_id'].unique().shape[0]"
   ]
  },
  {
   "cell_type": "code",
   "execution_count": 7,
   "id": "772b7137-9ca2-4a09-87a0-bc205ba1bba4",
   "metadata": {},
   "outputs": [
    {
     "data": {
      "text/html": [
       "<div>\n",
       "<style scoped>\n",
       "    .dataframe tbody tr th:only-of-type {\n",
       "        vertical-align: middle;\n",
       "    }\n",
       "\n",
       "    .dataframe tbody tr th {\n",
       "        vertical-align: top;\n",
       "    }\n",
       "\n",
       "    .dataframe thead th {\n",
       "        text-align: right;\n",
       "    }\n",
       "</style>\n",
       "<table border=\"1\" class=\"dataframe\">\n",
       "  <thead>\n",
       "    <tr style=\"text-align: right;\">\n",
       "      <th></th>\n",
       "      <th>emotion_score</th>\n",
       "      <th>emotion</th>\n",
       "    </tr>\n",
       "  </thead>\n",
       "  <tbody>\n",
       "    <tr>\n",
       "      <th>joy</th>\n",
       "      <td>0.447855</td>\n",
       "      <td>joy</td>\n",
       "    </tr>\n",
       "    <tr>\n",
       "      <th>surprise</th>\n",
       "      <td>0.086843</td>\n",
       "      <td>surprise</td>\n",
       "    </tr>\n",
       "    <tr>\n",
       "      <th>fear</th>\n",
       "      <td>0.093379</td>\n",
       "      <td>fear</td>\n",
       "    </tr>\n",
       "    <tr>\n",
       "      <th>anger</th>\n",
       "      <td>0.042246</td>\n",
       "      <td>anger</td>\n",
       "    </tr>\n",
       "    <tr>\n",
       "      <th>sadness</th>\n",
       "      <td>0.178033</td>\n",
       "      <td>sadness</td>\n",
       "    </tr>\n",
       "    <tr>\n",
       "      <th>disgust</th>\n",
       "      <td>0.151644</td>\n",
       "      <td>disgust</td>\n",
       "    </tr>\n",
       "  </tbody>\n",
       "</table>\n",
       "</div>"
      ],
      "text/plain": [
       "          emotion_score   emotion\n",
       "joy            0.447855       joy\n",
       "surprise       0.086843  surprise\n",
       "fear           0.093379      fear\n",
       "anger          0.042246     anger\n",
       "sadness        0.178033   sadness\n",
       "disgust        0.151644   disgust"
      ]
     },
     "execution_count": 7,
     "metadata": {},
     "output_type": "execute_result"
    }
   ],
   "source": [
    "means = pd.DataFrame(np.mean(tweets_df[emotions], axis=0), columns=['emotion_score'])\n",
    "means['emotion'] = means.index\n",
    "means"
   ]
  },
  {
   "cell_type": "code",
   "execution_count": 8,
   "id": "516e6d1e-b91b-4920-802b-6ebc81e94493",
   "metadata": {},
   "outputs": [
    {
     "data": {
      "text/html": [
       "<div>\n",
       "<style scoped>\n",
       "    .dataframe tbody tr th:only-of-type {\n",
       "        vertical-align: middle;\n",
       "    }\n",
       "\n",
       "    .dataframe tbody tr th {\n",
       "        vertical-align: top;\n",
       "    }\n",
       "\n",
       "    .dataframe thead th {\n",
       "        text-align: right;\n",
       "    }\n",
       "</style>\n",
       "<table border=\"1\" class=\"dataframe\">\n",
       "  <thead>\n",
       "    <tr style=\"text-align: right;\">\n",
       "      <th>emotion</th>\n",
       "      <th>joy</th>\n",
       "      <th>surprise</th>\n",
       "      <th>fear</th>\n",
       "      <th>anger</th>\n",
       "      <th>sadness</th>\n",
       "      <th>disgust</th>\n",
       "      <th>dummy</th>\n",
       "    </tr>\n",
       "  </thead>\n",
       "  <tbody>\n",
       "    <tr>\n",
       "      <th>0</th>\n",
       "      <td>0.447855</td>\n",
       "      <td>0.086843</td>\n",
       "      <td>0.093379</td>\n",
       "      <td>0.042246</td>\n",
       "      <td>0.178033</td>\n",
       "      <td>0.151644</td>\n",
       "      <td>0</td>\n",
       "    </tr>\n",
       "    <tr>\n",
       "      <th>1</th>\n",
       "      <td>0.447855</td>\n",
       "      <td>0.534698</td>\n",
       "      <td>0.628077</td>\n",
       "      <td>0.670323</td>\n",
       "      <td>0.848356</td>\n",
       "      <td>1.000000</td>\n",
       "      <td>1</td>\n",
       "    </tr>\n",
       "  </tbody>\n",
       "</table>\n",
       "</div>"
      ],
      "text/plain": [
       "emotion       joy  surprise      fear     anger   sadness   disgust  dummy\n",
       "0        0.447855  0.086843  0.093379  0.042246  0.178033  0.151644      0\n",
       "1        0.447855  0.534698  0.628077  0.670323  0.848356  1.000000      1"
      ]
     },
     "execution_count": 8,
     "metadata": {},
     "output_type": "execute_result"
    }
   ],
   "source": [
    "means = pd.DataFrame(np.mean(tweets_df[emotions], axis=0), columns=['emotion_score'])\n",
    "means['emotion'] = means.index\n",
    "means['dummy'] = 0\n",
    "pivoted = means.pivot(index='dummy', columns='emotion').reset_index(drop=True)\n",
    "pivoted.columns = pivoted.columns.get_level_values(1)\n",
    "\n",
    "total = 0\n",
    "cum_row = []\n",
    "for i in range(6):\n",
    "    cum_row.append(total + pivoted.loc[0,emotions[i]])\n",
    "    total += pivoted.loc[0,emotions[i]]\n",
    "\n",
    "pivoted = pivoted.append(pd.Series(cum_row, index=emotions), ignore_index=True)\n",
    "pivoted = pivoted[emotions]\n",
    "\n",
    "pivoted['dummy'] = pivoted.index\n",
    "pivoted.head()"
   ]
  },
  {
   "cell_type": "code",
   "execution_count": 9,
   "id": "9ff7b2e6-0c8b-46a8-a3c0-9652e1ea5541",
   "metadata": {},
   "outputs": [
    {
     "data": {
      "text/plain": [
       "<Figure size 432x288 with 0 Axes>"
      ]
     },
     "metadata": {},
     "output_type": "display_data"
    },
    {
     "data": {
      "image/png": "[encoded data removed]",
      "text/plain": [
       "<Figure size 720x144 with 1 Axes>"
      ]
     },
     "metadata": {},
     "output_type": "display_data"
    }
   ],
   "source": [
    "sns.set_style('dark')\n",
    "sns.despine(fig=None, ax=None, top=False, right=False, left=False, bottom=False, offset=None, trim=False)\n",
    "fig, axs = plt.subplots(1,1, figsize=(10,2));\n",
    "for i in range(5, -1, -1):\n",
    "    ax = sns.barplot(y='dummy', x=emotions[i], label=emotions[i], color=colors[i], orient='h', data=pivoted.iloc[[1],:])\n",
    "ax.set_xlabel('cumulative_percent')\n",
    "ax.set_ylabel('')\n",
    "ax.set_facecolor('white')\n",
    "ax.set_yticklabels([])\n",
    "\n",
    "handles, labels = ax.get_legend_handles_labels()\n",
    "lgd = plt.legend(reversed(plt.legend().legendHandles), reversed(labels), bbox_to_anchor=(1.01, 1), borderaxespad=0)\n",
    "plt.savefig(save_dir + 'national_emotions_binary.pdf', dpi=300, bbox_extra_artists=(lgd,), bbox_inches='tight')\n",
    "plt.show()"
   ]
  },
  {
   "cell_type": "code",
   "execution_count": 11,
   "id": "c2d4442b-fab3-4960-b878-3e7173167a5e",
   "metadata": {
    "tags": []
   },
   "outputs": [
    {
     "data": {
      "image/png": "[encoded data removed]",
      "text/plain": [
       "<Figure size 720x144 with 1 Axes>"
      ]
     },
     "metadata": {},
     "output_type": "display_data"
    }
   ],
   "source": [
    "fig, axs = plt.subplots(1,1, figsize=(10,2))\n",
    "for i in range(5, -1, -1):\n",
    "    ax = sns.barplot(y='dummy', x=emotions[i], label=emotions[i], color=tab_colors[i], orient='h', data=pivoted.iloc[[1],:])\n",
    "ax.set_xlabel('cumulative_percent')\n",
    "ax.set_facecolor('white')\n",
    "ax.set_ylabel('')\n",
    "ax.set_yticklabels([])\n",
    "plt.legend(reversed(plt.legend().legendHandles), reversed(labels), bbox_to_anchor=(1.01, 1), borderaxespad=0)\n",
    "lgd = plt.legend(reversed(plt.legend().legendHandles), reversed(labels), bbox_to_anchor=(1.01, 1), borderaxespad=0)\n",
    "plt.savefig(save_dir + 'national_emotions_distinct.pdf', dpi=300, bbox_extra_artists=(lgd,), bbox_inches='tight')\n",
    "plt.show()"
   ]
  },
  {
   "cell_type": "code",
   "execution_count": 12,
   "id": "fe322582-cb41-4d6e-a5b8-dcebc83767f0",
   "metadata": {
    "tags": []
   },
   "outputs": [
    {
     "data": {
      "image/png": "[encoded data removed]",
      "text/plain": [
       "<Figure size 720x144 with 1 Axes>"
      ]
     },
     "metadata": {},
     "output_type": "display_data"
    }
   ],
   "source": [
    "hue_colors = list(sns.color_palette('RdYlGn', n_colors=6))\n",
    "hue_colors.reverse()\n",
    "fig, axs = plt.subplots(1,1, figsize=(10,2))\n",
    "for i in range(5, -1, -1):\n",
    "    ax = sns.barplot(y='dummy', x=emotions[i], label=emotions[i], color=hue_colors[i], orient='h', data=pivoted.iloc[[1],:])\n",
    "ax.set_xlabel('cumulative_percent')\n",
    "ax.set_ylabel(None)\n",
    "plt.legend(bbox_to_anchor=(1.01, 1), borderaxespad=0)\n",
    "plt.show()"
   ]
  },
  {
   "cell_type": "markdown",
   "id": "ac0a0a07-80da-446f-abef-0f337c8de1f5",
   "metadata": {},
   "source": [
    "# Words Melted"
   ]
  },
  {
   "cell_type": "code",
   "execution_count": 13,
   "id": "9d55b7ca-bdd5-42d2-bc26-397497b82d7e",
   "metadata": {},
   "outputs": [
    {
     "data": {
      "text/plain": [
       "['eyes',\n",
       " 'ears',\n",
       " 'mouth',\n",
       " 'nose',\n",
       " 'neck',\n",
       " 'lips',\n",
       " 'teeth',\n",
       " 'chest',\n",
       " 'breast',\n",
       " 'breasts',\n",
       " 'belly',\n",
       " 'torso',\n",
       " 'stomach',\n",
       " 'waist',\n",
       " 'hips',\n",
       " 'legs',\n",
       " 'arms',\n",
       " 'body',\n",
       " 'skin',\n",
       " 'my face',\n",
       " 'your face',\n",
       " 'his face',\n",
       " 'her face',\n",
       " 'their face']"
      ]
     },
     "execution_count": 13,
     "metadata": {},
     "output_type": "execute_result"
    }
   ],
   "source": [
    "with open('../public_data/body_vocab.txt', 'r') as f:\n",
    "    body_words_list = [word.strip('\\n \"') for word in f.readlines()]\n",
    "body_words_list"
   ]
  },
  {
   "cell_type": "code",
   "execution_count": 15,
   "id": "812ac2a2-9779-4b39-bc86-fcfa69b0e76f",
   "metadata": {},
   "outputs": [
    {
     "name": "stderr",
     "output_type": "stream",
     "text": [
      "100%|██████████| 422287/422287 [00:08<00:00, 52473.98it/s]\n"
     ]
    },
    {
     "data": {
      "text/html": [
       "<div>\n",
       "<style scoped>\n",
       "    .dataframe tbody tr th:only-of-type {\n",
       "        vertical-align: middle;\n",
       "    }\n",
       "\n",
       "    .dataframe tbody tr th {\n",
       "        vertical-align: top;\n",
       "    }\n",
       "\n",
       "    .dataframe thead th {\n",
       "        text-align: right;\n",
       "    }\n",
       "</style>\n",
       "<table border=\"1\" class=\"dataframe\">\n",
       "  <thead>\n",
       "    <tr style=\"text-align: right;\">\n",
       "      <th></th>\n",
       "      <th>tokens</th>\n",
       "      <th>joy</th>\n",
       "      <th>surprise</th>\n",
       "      <th>fear</th>\n",
       "      <th>anger</th>\n",
       "      <th>sadness</th>\n",
       "      <th>disgust</th>\n",
       "      <th>matched_tokens</th>\n",
       "    </tr>\n",
       "  </thead>\n",
       "  <tbody>\n",
       "    <tr>\n",
       "      <th>0</th>\n",
       "      <td>[It's, literally, like, knives, are, being, pl...</td>\n",
       "      <td>0.050008</td>\n",
       "      <td>0.029231</td>\n",
       "      <td>0.125249</td>\n",
       "      <td>0.050691</td>\n",
       "      <td>0.412114</td>\n",
       "      <td>0.332706</td>\n",
       "      <td>[body]</td>\n",
       "    </tr>\n",
       "    <tr>\n",
       "      <th>1</th>\n",
       "      <td>[The, whole, right, side, of, my, body, hurts,...</td>\n",
       "      <td>0.021590</td>\n",
       "      <td>0.004403</td>\n",
       "      <td>0.034428</td>\n",
       "      <td>0.039123</td>\n",
       "      <td>0.760874</td>\n",
       "      <td>0.139582</td>\n",
       "      <td>[body]</td>\n",
       "    </tr>\n",
       "    <tr>\n",
       "      <th>2</th>\n",
       "      <td>[Great, @BikramYoga_rva, class, ;), my, body, ...</td>\n",
       "      <td>0.720429</td>\n",
       "      <td>0.016701</td>\n",
       "      <td>0.055441</td>\n",
       "      <td>0.016712</td>\n",
       "      <td>0.125736</td>\n",
       "      <td>0.064981</td>\n",
       "      <td>[body]</td>\n",
       "    </tr>\n",
       "    <tr>\n",
       "      <th>3</th>\n",
       "      <td>[What, a, great, chest, &amp;, tricep, workout, wi...</td>\n",
       "      <td>0.967715</td>\n",
       "      <td>0.002706</td>\n",
       "      <td>0.014748</td>\n",
       "      <td>0.003146</td>\n",
       "      <td>0.004461</td>\n",
       "      <td>0.007223</td>\n",
       "      <td>[chest]</td>\n",
       "    </tr>\n",
       "    <tr>\n",
       "      <th>4</th>\n",
       "      <td>[Seriously, dude, ,, stop, breathing, in, my, ...</td>\n",
       "      <td>0.084153</td>\n",
       "      <td>0.006059</td>\n",
       "      <td>0.024408</td>\n",
       "      <td>0.385894</td>\n",
       "      <td>0.092785</td>\n",
       "      <td>0.406701</td>\n",
       "      <td>[my face]</td>\n",
       "    </tr>\n",
       "  </tbody>\n",
       "</table>\n",
       "</div>"
      ],
      "text/plain": [
       "                                              tokens       joy  surprise  \\\n",
       "0  [It's, literally, like, knives, are, being, pl...  0.050008  0.029231   \n",
       "1  [The, whole, right, side, of, my, body, hurts,...  0.021590  0.004403   \n",
       "2  [Great, @BikramYoga_rva, class, ;), my, body, ...  0.720429  0.016701   \n",
       "3  [What, a, great, chest, &, tricep, workout, wi...  0.967715  0.002706   \n",
       "4  [Seriously, dude, ,, stop, breathing, in, my, ...  0.084153  0.006059   \n",
       "\n",
       "       fear     anger   sadness   disgust matched_tokens  \n",
       "0  0.125249  0.050691  0.412114  0.332706         [body]  \n",
       "1  0.034428  0.039123  0.760874  0.139582         [body]  \n",
       "2  0.055441  0.016712  0.125736  0.064981         [body]  \n",
       "3  0.014748  0.003146  0.004461  0.007223        [chest]  \n",
       "4  0.024408  0.385894  0.092785  0.406701      [my face]  "
      ]
     },
     "execution_count": 15,
     "metadata": {},
     "output_type": "execute_result"
    }
   ],
   "source": [
    "tqdm.pandas()\n",
    "tokens_df = tweets_df[['tokens']+emotions].copy()\n",
    "tokens_df['matched_tokens'] = tokens_df['tokens'].progress_apply(lambda token_list: [w for w in body_words_list if w in token_list])\n",
    "tokens_df.head()"
   ]
  },
  {
   "cell_type": "code",
   "execution_count": 16,
   "id": "0dbc5788-511b-40c2-8daa-6e0c930d82e8",
   "metadata": {},
   "outputs": [
    {
     "data": {
      "text/html": [
       "<div>\n",
       "<style scoped>\n",
       "    .dataframe tbody tr th:only-of-type {\n",
       "        vertical-align: middle;\n",
       "    }\n",
       "\n",
       "    .dataframe tbody tr th {\n",
       "        vertical-align: top;\n",
       "    }\n",
       "\n",
       "    .dataframe thead th {\n",
       "        text-align: right;\n",
       "    }\n",
       "</style>\n",
       "<table border=\"1\" class=\"dataframe\">\n",
       "  <thead>\n",
       "    <tr style=\"text-align: right;\">\n",
       "      <th></th>\n",
       "      <th>joy</th>\n",
       "      <th>surprise</th>\n",
       "      <th>fear</th>\n",
       "      <th>anger</th>\n",
       "      <th>sadness</th>\n",
       "      <th>disgust</th>\n",
       "    </tr>\n",
       "    <tr>\n",
       "      <th>matched_tokens</th>\n",
       "      <th></th>\n",
       "      <th></th>\n",
       "      <th></th>\n",
       "      <th></th>\n",
       "      <th></th>\n",
       "      <th></th>\n",
       "    </tr>\n",
       "  </thead>\n",
       "  <tbody>\n",
       "    <tr>\n",
       "      <th>arms</th>\n",
       "      <td>0.449642</td>\n",
       "      <td>0.085700</td>\n",
       "      <td>0.093445</td>\n",
       "      <td>0.042364</td>\n",
       "      <td>0.178392</td>\n",
       "      <td>0.150458</td>\n",
       "    </tr>\n",
       "    <tr>\n",
       "      <th>belly</th>\n",
       "      <td>0.446144</td>\n",
       "      <td>0.086772</td>\n",
       "      <td>0.093317</td>\n",
       "      <td>0.042585</td>\n",
       "      <td>0.179706</td>\n",
       "      <td>0.151475</td>\n",
       "    </tr>\n",
       "    <tr>\n",
       "      <th>body</th>\n",
       "      <td>0.446247</td>\n",
       "      <td>0.087821</td>\n",
       "      <td>0.093196</td>\n",
       "      <td>0.042298</td>\n",
       "      <td>0.178794</td>\n",
       "      <td>0.151644</td>\n",
       "    </tr>\n",
       "    <tr>\n",
       "      <th>breast</th>\n",
       "      <td>0.445969</td>\n",
       "      <td>0.085510</td>\n",
       "      <td>0.093128</td>\n",
       "      <td>0.043010</td>\n",
       "      <td>0.179314</td>\n",
       "      <td>0.153069</td>\n",
       "    </tr>\n",
       "    <tr>\n",
       "      <th>breasts</th>\n",
       "      <td>0.451698</td>\n",
       "      <td>0.083038</td>\n",
       "      <td>0.092994</td>\n",
       "      <td>0.040512</td>\n",
       "      <td>0.180260</td>\n",
       "      <td>0.151498</td>\n",
       "    </tr>\n",
       "  </tbody>\n",
       "</table>\n",
       "</div>"
      ],
      "text/plain": [
       "                     joy  surprise      fear     anger   sadness   disgust\n",
       "matched_tokens                                                            \n",
       "arms            0.449642  0.085700  0.093445  0.042364  0.178392  0.150458\n",
       "belly           0.446144  0.086772  0.093317  0.042585  0.179706  0.151475\n",
       "body            0.446247  0.087821  0.093196  0.042298  0.178794  0.151644\n",
       "breast          0.445969  0.085510  0.093128  0.043010  0.179314  0.153069\n",
       "breasts         0.451698  0.083038  0.092994  0.040512  0.180260  0.151498"
      ]
     },
     "execution_count": 16,
     "metadata": {},
     "output_type": "execute_result"
    }
   ],
   "source": [
    "exploded = tokens_df.explode('matched_tokens')\n",
    "exploded.groupby('matched_tokens').mean().head()"
   ]
  },
  {
   "cell_type": "code",
   "execution_count": 23,
   "id": "0232594b-82c9-4494-bab5-2872d68ba65e",
   "metadata": {},
   "outputs": [
    {
     "data": {
      "text/html": [
       "<div>\n",
       "<style scoped>\n",
       "    .dataframe tbody tr th:only-of-type {\n",
       "        vertical-align: middle;\n",
       "    }\n",
       "\n",
       "    .dataframe tbody tr th {\n",
       "        vertical-align: top;\n",
       "    }\n",
       "\n",
       "    .dataframe thead th {\n",
       "        text-align: right;\n",
       "    }\n",
       "</style>\n",
       "<table border=\"1\" class=\"dataframe\">\n",
       "  <thead>\n",
       "    <tr style=\"text-align: right;\">\n",
       "      <th></th>\n",
       "      <th>final_state</th>\n",
       "      <th>emotion</th>\n",
       "      <th>score</th>\n",
       "    </tr>\n",
       "  </thead>\n",
       "  <tbody>\n",
       "    <tr>\n",
       "      <th>0</th>\n",
       "      <td>Nebraska</td>\n",
       "      <td>joy</td>\n",
       "      <td>0.050008</td>\n",
       "    </tr>\n",
       "    <tr>\n",
       "      <th>1</th>\n",
       "      <td>Puerto Rico</td>\n",
       "      <td>joy</td>\n",
       "      <td>0.021590</td>\n",
       "    </tr>\n",
       "    <tr>\n",
       "      <th>2</th>\n",
       "      <td>Florida</td>\n",
       "      <td>joy</td>\n",
       "      <td>0.720429</td>\n",
       "    </tr>\n",
       "    <tr>\n",
       "      <th>3</th>\n",
       "      <td>Texas</td>\n",
       "      <td>joy</td>\n",
       "      <td>0.967715</td>\n",
       "    </tr>\n",
       "    <tr>\n",
       "      <th>4</th>\n",
       "      <td>Idaho</td>\n",
       "      <td>joy</td>\n",
       "      <td>0.084153</td>\n",
       "    </tr>\n",
       "  </tbody>\n",
       "</table>\n",
       "</div>"
      ],
      "text/plain": [
       "   final_state emotion     score\n",
       "0     Nebraska     joy  0.050008\n",
       "1  Puerto Rico     joy  0.021590\n",
       "2      Florida     joy  0.720429\n",
       "3        Texas     joy  0.967715\n",
       "4        Idaho     joy  0.084153"
      ]
     },
     "execution_count": 23,
     "metadata": {},
     "output_type": "execute_result"
    }
   ],
   "source": [
    "melted = pd.melt(tweets_df, id_vars='final_state', value_vars=emotions, var_name='emotion', value_name='score')\n",
    "melted.head()"
   ]
  },
  {
   "cell_type": "code",
   "execution_count": 24,
   "id": "3da57971-ab1f-4c7f-a77b-6bd2b9b8da22",
   "metadata": {},
   "outputs": [
    {
     "data": {
      "text/plain": [
       "array(['joy', 'surprise', 'fear', 'anger', 'sadness', 'disgust'],\n",
       "      dtype=object)"
      ]
     },
     "execution_count": 24,
     "metadata": {},
     "output_type": "execute_result"
    }
   ],
   "source": [
    "melted['emotion'].unique()"
   ]
  },
  {
   "cell_type": "code",
   "execution_count": 25,
   "id": "f67c234e-39d2-4ec6-a93d-5affc4130aeb",
   "metadata": {},
   "outputs": [
    {
     "data": {
      "text/html": [
       "<div>\n",
       "<style scoped>\n",
       "    .dataframe tbody tr th:only-of-type {\n",
       "        vertical-align: middle;\n",
       "    }\n",
       "\n",
       "    .dataframe tbody tr th {\n",
       "        vertical-align: top;\n",
       "    }\n",
       "\n",
       "    .dataframe thead th {\n",
       "        text-align: right;\n",
       "    }\n",
       "</style>\n",
       "<table border=\"1\" class=\"dataframe\">\n",
       "  <thead>\n",
       "    <tr style=\"text-align: right;\">\n",
       "      <th></th>\n",
       "      <th>tweet_id</th>\n",
       "      <th>final_state</th>\n",
       "      <th>emotion</th>\n",
       "      <th>score</th>\n",
       "      <th>is_neg</th>\n",
       "    </tr>\n",
       "  </thead>\n",
       "  <tbody>\n",
       "    <tr>\n",
       "      <th>0</th>\n",
       "      <td>295969488942288896</td>\n",
       "      <td>Nebraska</td>\n",
       "      <td>joy</td>\n",
       "      <td>0.050008</td>\n",
       "      <td>False</td>\n",
       "    </tr>\n",
       "    <tr>\n",
       "      <th>1</th>\n",
       "      <td>295969488120201216</td>\n",
       "      <td>Puerto Rico</td>\n",
       "      <td>joy</td>\n",
       "      <td>0.021590</td>\n",
       "      <td>False</td>\n",
       "    </tr>\n",
       "    <tr>\n",
       "      <th>2</th>\n",
       "      <td>295969487172280322</td>\n",
       "      <td>Florida</td>\n",
       "      <td>joy</td>\n",
       "      <td>0.720429</td>\n",
       "      <td>False</td>\n",
       "    </tr>\n",
       "    <tr>\n",
       "      <th>3</th>\n",
       "      <td>295969485700087809</td>\n",
       "      <td>Texas</td>\n",
       "      <td>joy</td>\n",
       "      <td>0.967715</td>\n",
       "      <td>False</td>\n",
       "    </tr>\n",
       "    <tr>\n",
       "      <th>4</th>\n",
       "      <td>295969483854589954</td>\n",
       "      <td>Idaho</td>\n",
       "      <td>joy</td>\n",
       "      <td>0.084153</td>\n",
       "      <td>False</td>\n",
       "    </tr>\n",
       "  </tbody>\n",
       "</table>\n",
       "</div>"
      ],
      "text/plain": [
       "             tweet_id  final_state emotion     score  is_neg\n",
       "0  295969488942288896     Nebraska     joy  0.050008   False\n",
       "1  295969488120201216  Puerto Rico     joy  0.021590   False\n",
       "2  295969487172280322      Florida     joy  0.720429   False\n",
       "3  295969485700087809        Texas     joy  0.967715   False\n",
       "4  295969483854589954        Idaho     joy  0.084153   False"
      ]
     },
     "execution_count": 25,
     "metadata": {},
     "output_type": "execute_result"
    }
   ],
   "source": [
    "melted = pd.melt(tweets_df, id_vars=['tweet_id','final_state'], value_vars=emotions, var_name='emotion', value_name='score')\n",
    "melted['is_neg'] = melted['emotion'].isin(['fear','anger','sadness','disgust'])\n",
    "melted.head()"
   ]
  },
  {
   "cell_type": "code",
   "execution_count": 30,
   "id": "bfb4c61b-8136-4050-8824-6e95d7acc9f8",
   "metadata": {},
   "outputs": [
    {
     "data": {
      "text/html": [
       "<div>\n",
       "<style scoped>\n",
       "    .dataframe tbody tr th:only-of-type {\n",
       "        vertical-align: middle;\n",
       "    }\n",
       "\n",
       "    .dataframe tbody tr th {\n",
       "        vertical-align: top;\n",
       "    }\n",
       "\n",
       "    .dataframe thead th {\n",
       "        text-align: right;\n",
       "    }\n",
       "</style>\n",
       "<table border=\"1\" class=\"dataframe\">\n",
       "  <thead>\n",
       "    <tr style=\"text-align: right;\">\n",
       "      <th></th>\n",
       "      <th></th>\n",
       "      <th>score</th>\n",
       "      <th>is_neg</th>\n",
       "    </tr>\n",
       "    <tr>\n",
       "      <th>tweet_id</th>\n",
       "      <th>final_state</th>\n",
       "      <th></th>\n",
       "      <th></th>\n",
       "    </tr>\n",
       "  </thead>\n",
       "  <tbody>\n",
       "    <tr>\n",
       "      <th>1183494899079008258</th>\n",
       "      <th>Florida</th>\n",
       "      <td>0.109717</td>\n",
       "      <td>4</td>\n",
       "    </tr>\n",
       "    <tr>\n",
       "      <th>1183494901465571334</th>\n",
       "      <th>Louisiana</th>\n",
       "      <td>0.181272</td>\n",
       "      <td>4</td>\n",
       "    </tr>\n",
       "    <tr>\n",
       "      <th>1183494904900661249</th>\n",
       "      <th>Illinois</th>\n",
       "      <td>0.774083</td>\n",
       "      <td>4</td>\n",
       "    </tr>\n",
       "    <tr>\n",
       "      <th>1183494907224346624</th>\n",
       "      <th>Massachusetts</th>\n",
       "      <td>0.774083</td>\n",
       "      <td>4</td>\n",
       "    </tr>\n",
       "    <tr>\n",
       "      <th>1183494909006929920</th>\n",
       "      <th>Texas</th>\n",
       "      <td>0.774083</td>\n",
       "      <td>4</td>\n",
       "    </tr>\n",
       "  </tbody>\n",
       "</table>\n",
       "</div>"
      ],
      "text/plain": [
       "                                      score  is_neg\n",
       "tweet_id            final_state                    \n",
       "1183494899079008258 Florida        0.109717       4\n",
       "1183494901465571334 Louisiana      0.181272       4\n",
       "1183494904900661249 Illinois       0.774083       4\n",
       "1183494907224346624 Massachusetts  0.774083       4\n",
       "1183494909006929920 Texas          0.774083       4"
      ]
     },
     "execution_count": 30,
     "metadata": {},
     "output_type": "execute_result"
    }
   ],
   "source": [
    "neg_scores = melted[melted['is_neg']].groupby(['tweet_id','final_state']).sum()\n",
    "neg_scores.head()"
   ]
  },
  {
   "cell_type": "code",
   "execution_count": 31,
   "id": "d99c56c7-c01c-4e93-bf52-9f528e676e7e",
   "metadata": {},
   "outputs": [
    {
     "data": {
      "text/plain": [
       "<AxesSubplot:xlabel='score', ylabel='Count'>"
      ]
     },
     "execution_count": 31,
     "metadata": {},
     "output_type": "execute_result"
    },
    {
     "data": {
      "image/png": "[encoded data removed]",
      "text/plain": [
       "<Figure size 432x288 with 1 Axes>"
      ]
     },
     "metadata": {},
     "output_type": "display_data"
    }
   ],
   "source": [
    "sns.histplot(neg_scores['score'])"
   ]
  },
  {
   "cell_type": "code",
   "execution_count": 17,
   "id": "c4c7a5f2-e429-4c72-8554-4c3723727cef",
   "metadata": {},
   "outputs": [],
   "source": [
    "list(sns.color_palette('RdYlGn', n_colors=6)).reverse()"
   ]
  },
  {
   "cell_type": "code",
   "execution_count": 18,
   "id": "2865ca51-1e38-4cd5-a144-9d7b0fe96fd3",
   "metadata": {},
   "outputs": [
    {
     "data": {
      "text/plain": [
       "<AxesSubplot:ylabel='emotion_score'>"
      ]
     },
     "execution_count": 18,
     "metadata": {},
     "output_type": "execute_result"
    },
    {
     "data": {
      "image/png": "[encoded data removed]",
      "text/plain": [
       "<Figure size 432x288 with 1 Axes>"
      ]
     },
     "metadata": {},
     "output_type": "display_data"
    }
   ],
   "source": [
    "sns.barplot(data = means.reset_index(),y='emotion_score')"
   ]
  },
  {
   "cell_type": "code",
   "execution_count": 19,
   "id": "9cb2b90a-8a87-4cb1-8aed-faac914afc7e",
   "metadata": {},
   "outputs": [
    {
     "data": {
      "image/png": "[encoded data removed]",
      "text/plain": [
       "<Figure size 432x288 with 1 Axes>"
      ]
     },
     "metadata": {},
     "output_type": "display_data"
    }
   ],
   "source": [
    "import matplotlib.pyplot as plt\n",
    "import matplotlib.patches as mpatches\n",
    "bar = sns.barplot(data=means.reset_index(), y='emotion_score')\n",
    "c = ['red','blue','green','yellow','orange','black']\n",
    "for i in range(len(c)):\n",
    "    patches = mpatches.Patch(color=c[i], label=emotions[i])\n",
    "plt.show()"
   ]
  },
  {
   "cell_type": "code",
   "execution_count": 20,
   "id": "e78eea5f-82f4-4f02-ba3f-57dcdd5d081b",
   "metadata": {},
   "outputs": [
    {
     "data": {
      "image/png": "[encoded data removed]",
      "text/plain": [
       "<Figure size 432x288 with 1 Axes>"
      ]
     },
     "metadata": {},
     "output_type": "display_data"
    }
   ],
   "source": [
    "ax = sns.histplot(tweets_df, x=\"sadness\", binwidth=.02)"
   ]
  },
  {
   "cell_type": "code",
   "execution_count": 21,
   "id": "ac698ea8-0005-4dad-b8fc-381ae942179a",
   "metadata": {},
   "outputs": [
    {
     "data": {
      "image/png": "[encoded data removed]",
      "text/plain": [
       "<Figure size 360x360 with 1 Axes>"
      ]
     },
     "metadata": {},
     "output_type": "display_data"
    }
   ],
   "source": [
    "sns.displot(tweets_df, x=\"joy\", binwidth=.02);"
   ]
  },
  {
   "cell_type": "code",
   "execution_count": 35,
   "id": "4026ca02-16f3-4230-a9ed-a3ede2ca50e1",
   "metadata": {},
   "outputs": [
    {
     "name": "stdout",
     "output_type": "stream",
     "text": [
      "[<AxesSubplot:> <AxesSubplot:> <AxesSubplot:> <AxesSubplot:>\n",
      " <AxesSubplot:> <AxesSubplot:>]\n"
     ]
    },
    {
     "data": {
      "image/png": "[encoded data removed]",
      "text/plain": [
       "<Figure size 720x936 with 6 Axes>"
      ]
     },
     "metadata": {},
     "output_type": "display_data"
    }
   ],
   "source": [
    "fig, axs = plt.subplots(3, 2, figsize=(10,13))\n",
    "print(axs.flatten())\n",
    "for i in range(6):\n",
    "    ax = axs.flatten()[i]\n",
    "    ax = sns.histplot(tweets_df, x=emotions[i], binwidth=.02, ax=ax, color=tab_colors[i])\n",
    "    ax.set_xlim([0,1])\n",
    "    ax.yaxis.grid()\n",
    "    if i % 2 == 1:\n",
    "        ax.set_ylabel('')\n",
    "plt.savefig(save_dir + 'national_emotions_dists.pdf', dpi=300)\n",
    "plt.show()"
   ]
  },
  {
   "cell_type": "code",
   "execution_count": 27,
   "id": "02d25806-febf-4561-aaf3-427977f92bf2",
   "metadata": {},
   "outputs": [
    {
     "ename": "AttributeError",
     "evalue": "module 'seaborn' has no attribute 'plot'",
     "output_type": "error",
     "traceback": [
      "\u001b[0;31m---------------------------------------------------------------------------\u001b[0m",
      "\u001b[0;31mAttributeError\u001b[0m                            Traceback (most recent call last)",
      "\u001b[0;32m<ipython-input-27-46dda8ffab80>\u001b[0m in \u001b[0;36m<module>\u001b[0;34m()\u001b[0m\n\u001b[0;32m----> 1\u001b[0;31m \u001b[0msns\u001b[0m\u001b[0;34m.\u001b[0m\u001b[0mplot\u001b[0m\u001b[0;34m(\u001b[0m\u001b[0mneg_scores\u001b[0m\u001b[0;34m[\u001b[0m\u001b[0;34m'score'\u001b[0m\u001b[0;34m]\u001b[0m\u001b[0;34m)\u001b[0m\u001b[0;34m\u001b[0m\u001b[0;34m\u001b[0m\u001b[0m\n\u001b[0m",
      "\u001b[0;31mAttributeError\u001b[0m: module 'seaborn' has no attribute 'plot'"
     ]
    }
   ],
   "source": [
    "sns.plot(neg_scores['score'])"
   ]
  },
  {
   "cell_type": "code",
   "execution_count": null,
   "id": "89109eaa-014c-4e81-a85a-600efa0e8e73",
   "metadata": {},
   "outputs": [],
   "source": [
    "sns.boxplot(data=melted, x='score', y='final_state')"
   ]
  },
  {
   "cell_type": "code",
   "execution_count": null,
   "id": "8949bc75-606b-46c8-bfdb-945b14cb8a64",
   "metadata": {},
   "outputs": [],
   "source": [
    "tweets_df[emotions].describe()"
   ]
  },
  {
   "cell_type": "markdown",
   "id": "090f76f6-67d8-4812-b5c7-6f83eb189d8a",
   "metadata": {},
   "source": [
    "# Counting Tweets"
   ]
  },
  {
   "cell_type": "code",
   "execution_count": null,
   "id": "f3b756f5-7b59-443d-90dd-e0c1bfa778e0",
   "metadata": {},
   "outputs": [],
   "source": [
    "analysis_df = tweets_df.copy().head()"
   ]
  },
  {
   "cell_type": "code",
   "execution_count": null,
   "id": "d37c0cce-f048-473c-95ef-6e16e3dbeee8",
   "metadata": {},
   "outputs": [],
   "source": [
    "analysis_df['max_emotion'] = analysis_df[emotions].idxmax(axis=1)\n",
    "analysis_df.head()"
   ]
  },
  {
   "cell_type": "code",
   "execution_count": null,
   "id": "ede3724b-50a1-4dab-8e40-0f6fff25462f",
   "metadata": {},
   "outputs": [],
   "source": []
  }
 ],
 "metadata": {
  "kernelspec": {
   "display_name": "Python 3",
   "language": "python",
   "name": "python3"
  },
  "language_info": {
   "codemirror_mode": {
    "name": "ipython",
    "version": 3
   },
   "file_extension": ".py",
   "mimetype": "text/x-python",
   "name": "python",
   "nbconvert_exporter": "python",
   "pygments_lexer": "ipython3",
   "version": "3.6.13"
  }
 },
 "nbformat": 4,
 "nbformat_minor": 5
}
